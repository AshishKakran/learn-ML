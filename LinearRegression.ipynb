{
 "cells": [
  {
   "cell_type": "markdown",
   "id": "f91974d6",
   "metadata": {},
   "source": [
    "# Linear Regression - Gradient descent strategy\n",
    "\n",
    "see [cs229 notes](https://cs229.stanford.edu/notes2020fall/notes2020fall/cs229-notes1.pdf) for details"
   ]
  },
  {
   "cell_type": "code",
   "execution_count": 1,
   "id": "667df882",
   "metadata": {},
   "outputs": [],
   "source": [
    "import numpy as np\n",
    "\n",
    "from sklearn import datasets\n",
    "from sklearn.model_selection import train_test_split"
   ]
  },
  {
   "cell_type": "markdown",
   "id": "df49e727",
   "metadata": {},
   "source": [
    "## Diabetes dataset from sklearn\n",
    "See [toy datasets](https://scikit-learn.org/stable/datasets/toy_dataset.html) for full info"
   ]
  },
  {
   "cell_type": "code",
   "execution_count": 2,
   "id": "4aa5c31f",
   "metadata": {},
   "outputs": [
    {
     "data": {
      "text/plain": [
       "dict_keys(['data', 'target', 'frame', 'DESCR', 'feature_names', 'data_filename', 'target_filename'])"
      ]
     },
     "execution_count": 2,
     "metadata": {},
     "output_type": "execute_result"
    }
   ],
   "source": [
    "diabetes = datasets.load_diabetes(as_frame=True) #\n",
    "diabetes.keys()"
   ]
  },
  {
   "cell_type": "code",
   "execution_count": 3,
   "id": "c320e26c",
   "metadata": {},
   "outputs": [
    {
     "name": "stdout",
     "output_type": "stream",
     "text": [
      "<class 'pandas.core.frame.DataFrame'>\n",
      "RangeIndex: 442 entries, 0 to 441\n",
      "Data columns (total 10 columns):\n",
      " #   Column  Non-Null Count  Dtype  \n",
      "---  ------  --------------  -----  \n",
      " 0   age     442 non-null    float64\n",
      " 1   sex     442 non-null    float64\n",
      " 2   bmi     442 non-null    float64\n",
      " 3   bp      442 non-null    float64\n",
      " 4   s1      442 non-null    float64\n",
      " 5   s2      442 non-null    float64\n",
      " 6   s3      442 non-null    float64\n",
      " 7   s4      442 non-null    float64\n",
      " 8   s5      442 non-null    float64\n",
      " 9   s6      442 non-null    float64\n",
      "dtypes: float64(10)\n",
      "memory usage: 34.7 KB\n"
     ]
    }
   ],
   "source": [
    "diabetes.data.info() #no missing values"
   ]
  },
  {
   "cell_type": "code",
   "execution_count": 4,
   "id": "c7c96b02",
   "metadata": {},
   "outputs": [
    {
     "data": {
      "text/plain": [
       "(442, 10)"
      ]
     },
     "execution_count": 4,
     "metadata": {},
     "output_type": "execute_result"
    }
   ],
   "source": [
    "X = diabetes.data.values\n",
    "X.shape #10 features"
   ]
  },
  {
   "cell_type": "code",
   "execution_count": 5,
   "id": "85b6fe30",
   "metadata": {},
   "outputs": [
    {
     "data": {
      "text/plain": [
       "(442,)"
      ]
     },
     "execution_count": 5,
     "metadata": {},
     "output_type": "execute_result"
    }
   ],
   "source": [
    "y = diabetes.target.values\n",
    "y.shape"
   ]
  },
  {
   "cell_type": "code",
   "execution_count": 6,
   "id": "3d65aa9f",
   "metadata": {},
   "outputs": [],
   "source": [
    "train_X,test_X, train_y,test_y = train_test_split(X,y,random_state=42,test_size=0.2)"
   ]
  },
  {
   "cell_type": "code",
   "execution_count": 7,
   "id": "8e0de4d3",
   "metadata": {},
   "outputs": [],
   "source": [
    "class LinearRegression:\n",
    "    def __init__(self, alpha=1, n_iter=20000):\n",
    "        self.alpha = alpha\n",
    "        self.theta = np.NAN\n",
    "        self.iter = n_iter\n",
    "        \n",
    "    def fit(self,X,y):\n",
    "        \n",
    "        X=np.hstack((np.ones((len(X),1)),X)) #adding intercept term to each training example (m,n+1)\n",
    "        y=y[:, np.newaxis]  # (m,1)\n",
    "        m=len(y)\n",
    "        theta = np.ones((X.shape[1] ,1)) # (n+1,1)\n",
    "        \n",
    "        for i in range(0,self.iter):\n",
    "            dcost = X.T.dot(y - X.dot(theta)) # Gradient descent\n",
    "            theta = theta + 2 * (self.alpha/m) * dcost #see cs229 notes\n",
    "        self.theta = theta\n",
    "        return self\n",
    "    \n",
    "    def score(self,X,y):\n",
    "        \n",
    "        X=np.hstack((np.ones((len(X),1)),X))\n",
    "        y=y[:, np.newaxis]\n",
    "        \n",
    "        h = X.dot(self.theta)\n",
    "        score = 1 - ((y - h)**2).sum()/((y- y.mean())**2).sum()\n",
    "        \n",
    "        return score\n",
    "    \n",
    "    \n",
    "    def predict(self, X=None):\n",
    "        X=np.hstack((np.ones((len(X),1)),X))\n",
    "        return X.dot(self.theta)\n",
    "        \n",
    "        \n",
    "        "
   ]
  },
  {
   "cell_type": "code",
   "execution_count": 8,
   "id": "b73256e1",
   "metadata": {},
   "outputs": [],
   "source": [
    "reg = LinearRegression(alpha=0.1, n_iter=40000)"
   ]
  },
  {
   "cell_type": "code",
   "execution_count": 9,
   "id": "b44f6ff9",
   "metadata": {},
   "outputs": [
    {
     "data": {
      "text/plain": [
       "<__main__.LinearRegression at 0x7fe5c085bbe0>"
      ]
     },
     "execution_count": 9,
     "metadata": {},
     "output_type": "execute_result"
    }
   ],
   "source": [
    "reg.fit(train_X,train_y)"
   ]
  },
  {
   "cell_type": "code",
   "execution_count": 10,
   "id": "0a60bdfd",
   "metadata": {},
   "outputs": [
    {
     "data": {
      "text/plain": [
       "0.5242355587633337"
      ]
     },
     "execution_count": 10,
     "metadata": {},
     "output_type": "execute_result"
    }
   ],
   "source": [
    "reg.score(train_X, train_y)"
   ]
  },
  {
   "cell_type": "code",
   "execution_count": 11,
   "id": "4b790679",
   "metadata": {},
   "outputs": [
    {
     "data": {
      "text/plain": [
       "0.45534393994219957"
      ]
     },
     "execution_count": 11,
     "metadata": {},
     "output_type": "execute_result"
    }
   ],
   "source": [
    "reg.score(test_X, test_y)"
   ]
  },
  {
   "cell_type": "markdown",
   "id": "f3b422eb",
   "metadata": {},
   "source": [
    "## Using scikit-learn "
   ]
  },
  {
   "cell_type": "code",
   "execution_count": 12,
   "id": "6878a961",
   "metadata": {},
   "outputs": [],
   "source": [
    "from sklearn import linear_model\n"
   ]
  },
  {
   "cell_type": "code",
   "execution_count": 13,
   "id": "5e10a83c",
   "metadata": {},
   "outputs": [],
   "source": [
    "sreg = linear_model.LinearRegression() #uses linalg.lstsq internally as long as matrix is not sparse"
   ]
  },
  {
   "cell_type": "code",
   "execution_count": 14,
   "id": "e6454f68",
   "metadata": {},
   "outputs": [
    {
     "data": {
      "text/plain": [
       "{'copy_X': True,\n",
       " 'fit_intercept': True,\n",
       " 'n_jobs': None,\n",
       " 'normalize': False,\n",
       " 'positive': False}"
      ]
     },
     "execution_count": 14,
     "metadata": {},
     "output_type": "execute_result"
    }
   ],
   "source": [
    "sreg.get_params() #default parameters of LR"
   ]
  },
  {
   "cell_type": "code",
   "execution_count": 15,
   "id": "37483c42",
   "metadata": {},
   "outputs": [
    {
     "data": {
      "text/plain": [
       "LinearRegression()"
      ]
     },
     "execution_count": 15,
     "metadata": {},
     "output_type": "execute_result"
    }
   ],
   "source": [
    "sreg.fit(train_X,train_y)"
   ]
  },
  {
   "cell_type": "code",
   "execution_count": 16,
   "id": "e2b5b42e",
   "metadata": {},
   "outputs": [
    {
     "data": {
      "text/plain": [
       "array([  37.90031426, -241.96624835,  542.42575342,  347.70830529,\n",
       "       -931.46126093,  518.04405547,  163.40353476,  275.31003837,\n",
       "        736.18909839,   48.67112488])"
      ]
     },
     "execution_count": 16,
     "metadata": {},
     "output_type": "execute_result"
    }
   ],
   "source": [
    "sreg.coef_"
   ]
  },
  {
   "cell_type": "code",
   "execution_count": 17,
   "id": "09bf6eed",
   "metadata": {},
   "outputs": [
    {
     "data": {
      "text/plain": [
       "0.5279198995709652"
      ]
     },
     "execution_count": 17,
     "metadata": {},
     "output_type": "execute_result"
    }
   ],
   "source": [
    "sreg.score(train_X, train_y)"
   ]
  },
  {
   "cell_type": "code",
   "execution_count": 18,
   "id": "a898287f",
   "metadata": {},
   "outputs": [
    {
     "data": {
      "text/plain": [
       "0.45260660216173787"
      ]
     },
     "execution_count": 18,
     "metadata": {},
     "output_type": "execute_result"
    }
   ],
   "source": [
    "sreg.score(test_X,test_y)"
   ]
  }
 ],
 "metadata": {
  "kernelspec": {
   "display_name": "Python 3 (ipykernel)",
   "language": "python",
   "name": "python3"
  },
  "language_info": {
   "codemirror_mode": {
    "name": "ipython",
    "version": 3
   },
   "file_extension": ".py",
   "mimetype": "text/x-python",
   "name": "python",
   "nbconvert_exporter": "python",
   "pygments_lexer": "ipython3",
   "version": "3.9.7"
  }
 },
 "nbformat": 4,
 "nbformat_minor": 5
}
