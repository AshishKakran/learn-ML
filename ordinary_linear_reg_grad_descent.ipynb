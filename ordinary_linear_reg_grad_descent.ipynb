{
 "cells": [
  {
   "cell_type": "markdown",
   "id": "f91974d6",
   "metadata": {},
   "source": [
    "# Linear Regression using gradient descent\n",
    "\n",
    "see [cs229 notes](https://cs229.stanford.edu/notes2020fall/notes2020fall/cs229-notes1.pdf) for details"
   ]
  },
  {
   "cell_type": "code",
   "execution_count": 1,
   "id": "66a0629b",
   "metadata": {},
   "outputs": [],
   "source": [
    "# Python ≥3.5 is required\n",
    "import sys\n",
    "assert sys.version_info >= (3, 5)\n",
    "\n",
    "# Scikit-Learn ≥0.20 is required\n",
    "import sklearn\n",
    "assert sklearn.__version__ >= \"1\""
   ]
  },
  {
   "cell_type": "code",
   "execution_count": 2,
   "id": "f89c972a",
   "metadata": {},
   "outputs": [
    {
     "data": {
      "text/plain": [
       "'1.0.1'"
      ]
     },
     "execution_count": 2,
     "metadata": {},
     "output_type": "execute_result"
    }
   ],
   "source": [
    "sklearn.__version__"
   ]
  },
  {
   "cell_type": "code",
   "execution_count": 3,
   "id": "3756daaa",
   "metadata": {},
   "outputs": [],
   "source": [
    "from sklearn.datasets import make_regression\n",
    "from sklearn.model_selection import train_test_split,GridSearchCV,cross_val_score\n",
    "from sklearn.metrics import mean_squared_error\n",
    "from sklearn.linear_model import LinearRegression\n",
    "from sklearn.base import BaseEstimator,RegressorMixin"
   ]
  },
  {
   "cell_type": "code",
   "execution_count": 4,
   "id": "c5d35fde",
   "metadata": {},
   "outputs": [],
   "source": [
    "X,y, coeff = make_regression(n_samples=1000, n_features=1,coef=True, noise=20)"
   ]
  },
  {
   "cell_type": "code",
   "execution_count": 5,
   "id": "e03ce0c0",
   "metadata": {},
   "outputs": [],
   "source": [
    "import seaborn as sns\n",
    "import numpy as np\n",
    "import matplotlib.pyplot as plt"
   ]
  },
  {
   "cell_type": "code",
   "execution_count": 6,
   "id": "f592be61",
   "metadata": {},
   "outputs": [],
   "source": [
    "sns.set_theme(style=\"darkgrid\")"
   ]
  },
  {
   "cell_type": "code",
   "execution_count": 7,
   "id": "e6b018e7",
   "metadata": {},
   "outputs": [
    {
     "data": {
      "text/plain": [
       "(1000, 1)"
      ]
     },
     "execution_count": 7,
     "metadata": {},
     "output_type": "execute_result"
    }
   ],
   "source": [
    "X.shape"
   ]
  },
  {
   "cell_type": "code",
   "execution_count": 8,
   "id": "2bc7d220",
   "metadata": {},
   "outputs": [],
   "source": [
    "train_X,test_X, train_y, test_y = train_test_split(X,y, test_size=0.2,random_state=42)"
   ]
  },
  {
   "cell_type": "code",
   "execution_count": 9,
   "id": "53879de8",
   "metadata": {},
   "outputs": [
    {
     "data": {
      "image/png": "[encoded data removed]",
      "text/plain": [
       "<Figure size 432x288 with 1 Axes>"
      ]
     },
     "metadata": {},
     "output_type": "display_data"
    }
   ],
   "source": [
    "fig,axes = plt.subplots(1, layout='constrained')\n",
    "axes.scatter(train_X,train_y)\n",
    "plt.xlabel('train_x')\n",
    "plt.ylabel('train_y')\n",
    "plt.title('randomly generated data')\n",
    "plt.show()"
   ]
  },
  {
   "cell_type": "markdown",
   "id": "90f215d4",
   "metadata": {},
   "source": [
    "## Approach : Gradient descent \n",
    "\n",
    "\n",
    "$ \\theta_j := \\theta_j - \\frac{2\\alpha}{m}\\Sigma_{i=1}^{m}(h_\\theta(x^{(i)}) - y^{(i)})x^{(i)}_j$"
   ]
  },
  {
   "cell_type": "code",
   "execution_count": 10,
   "id": "3d082dcc",
   "metadata": {},
   "outputs": [],
   "source": [
    "class GDRegressor(BaseEstimator, RegressorMixin):\n",
    "    \n",
    "    def __init__(self,alpha=1,n_iter=10000):\n",
    "        self.alpha = alpha\n",
    "        self.n_iter = n_iter\n",
    "    \n",
    "    def fit(self,X,y):\n",
    "        X=np.hstack((np.ones((len(X),1)),X)) #adding intercept term to each training example (m,n+1)\n",
    "        y=y.reshape(len(y),1) #reshaping to column vector\n",
    "        m=len(y)\n",
    "        theta = np.random.rand(X.shape[1] ,1) # (n+1,1)\n",
    "        \n",
    "        for i in range(0,self.n_iter):\n",
    "            gradient = 2 * X.T.dot(X.dot(theta) - y)/m # Gradient\n",
    "            theta = theta - self.alpha * gradient #see cs229 notes\n",
    "        self.coef = theta\n",
    "        return self\n",
    "    \n",
    "    def predict(self, X=None):\n",
    "        X=np.hstack((np.ones((len(X),1)),X))\n",
    "        return X.dot(self.coef)\n",
    "    "
   ]
  },
  {
   "cell_type": "code",
   "execution_count": 11,
   "id": "60b3d38a",
   "metadata": {},
   "outputs": [],
   "source": [
    "reg = GDRegressor(alpha=0.2)"
   ]
  },
  {
   "cell_type": "code",
   "execution_count": 12,
   "id": "40c3e9ed",
   "metadata": {},
   "outputs": [
    {
     "data": {
      "text/plain": [
       "GDRegressor(alpha=0.2)"
      ]
     },
     "execution_count": 12,
     "metadata": {},
     "output_type": "execute_result"
    }
   ],
   "source": [
    "reg.fit(train_X,train_y)"
   ]
  },
  {
   "cell_type": "code",
   "execution_count": 13,
   "id": "15b2d670",
   "metadata": {},
   "outputs": [],
   "source": [
    "train_pred = reg.predict(train_X)"
   ]
  },
  {
   "cell_type": "code",
   "execution_count": 14,
   "id": "e719585e",
   "metadata": {},
   "outputs": [
    {
     "data": {
      "text/plain": [
       "20.24912349372604"
      ]
     },
     "execution_count": 14,
     "metadata": {},
     "output_type": "execute_result"
    }
   ],
   "source": [
    "lin_mse = mean_squared_error(train_y,train_pred)\n",
    "lin_rmse=np.sqrt(lin_mse)\n",
    "lin_rmse"
   ]
  },
  {
   "cell_type": "code",
   "execution_count": 15,
   "id": "93e9d957",
   "metadata": {},
   "outputs": [
    {
     "data": {
      "text/plain": [
       "array([20.05092991, 19.81791538, 19.9913549 , 21.22807826, 20.27676093])"
      ]
     },
     "execution_count": 15,
     "metadata": {},
     "output_type": "execute_result"
    }
   ],
   "source": [
    "lin_scores = cross_val_score(reg, train_X,train_y,scoring='neg_mean_squared_error', cv=5) # cv requires utility function\n",
    "lin_rmse_scores = np.sqrt(-lin_scores)\n",
    "lin_rmse_scores"
   ]
  },
  {
   "cell_type": "code",
   "execution_count": 16,
   "id": "be07b3a8",
   "metadata": {},
   "outputs": [
    {
     "data": {
      "image/png": "[encoded data removed]",
      "text/plain": [
       "<Figure size 432x288 with 1 Axes>"
      ]
     },
     "metadata": {},
     "output_type": "display_data"
    }
   ],
   "source": [
    "fig,axes = plt.subplots(1, layout='constrained')\n",
    "axes.plot(train_X,train_y, \"b.\")\n",
    "axes.plot(train_X,train_pred,\"r-\", label=\"predictions\")\n",
    "plt.xlabel('train_x')\n",
    "plt.ylabel('train_y')\n",
    "plt.title('fitting line')\n",
    "plt.legend()\n",
    "plt.show()"
   ]
  },
  {
   "cell_type": "code",
   "execution_count": 17,
   "id": "5ff91272",
   "metadata": {},
   "outputs": [
    {
     "data": {
      "text/plain": [
       "1.0"
      ]
     },
     "execution_count": 17,
     "metadata": {},
     "output_type": "execute_result"
    }
   ],
   "source": [
    "reg.score(train_X,train_pred)"
   ]
  },
  {
   "cell_type": "code",
   "execution_count": 18,
   "id": "fc055848",
   "metadata": {},
   "outputs": [
    {
     "data": {
      "text/plain": [
       "{'alpha': 0.2, 'n_iter': 10000}"
      ]
     },
     "execution_count": 18,
     "metadata": {},
     "output_type": "execute_result"
    }
   ],
   "source": [
    "reg.get_params()"
   ]
  },
  {
   "cell_type": "code",
   "execution_count": 19,
   "id": "87aa206f",
   "metadata": {},
   "outputs": [],
   "source": [
    "from sklearn.model_selection import GridSearchCV"
   ]
  },
  {
   "cell_type": "code",
   "execution_count": 20,
   "id": "e98aa3b3",
   "metadata": {},
   "outputs": [],
   "source": [
    "param_grid ={'alpha': [0.01,0.1, 1], 'n_iter': [10000,15000,20000,1000]}\n",
    "gdreg = GDRegressor()"
   ]
  },
  {
   "cell_type": "code",
   "execution_count": 21,
   "id": "eac7ce3d",
   "metadata": {},
   "outputs": [],
   "source": [
    "grid_search = GridSearchCV(gdreg, param_grid, cv=5)"
   ]
  },
  {
   "cell_type": "code",
   "execution_count": 22,
   "id": "17eb5035",
   "metadata": {},
   "outputs": [
    {
     "name": "stderr",
     "output_type": "stream",
     "text": [
      "/tmp/ipykernel_53906/1946996494.py:14: RuntimeWarning: overflow encountered in multiply\n",
      "  gradient = 2 * X.T.dot(X.dot(theta) - y)/m # Gradient\n",
      "/tmp/ipykernel_53906/1946996494.py:15: RuntimeWarning: invalid value encountered in subtract\n",
      "  theta = theta - self.alpha * gradient #see cs229 notes\n",
      "/home/ashishk/anaconda3/envs/ml/lib/python3.10/site-packages/sklearn/model_selection/_validation.py:771: UserWarning: Scoring failed. The score on this train-test partition for these parameters will be set to nan. Details: \n",
      "Traceback (most recent call last):\n",
      "  File \"/home/ashishk/anaconda3/envs/ml/lib/python3.10/site-packages/sklearn/model_selection/_validation.py\", line 762, in _score\n",
      "    scores = scorer(estimator, X_test, y_test)\n",
      "  File \"/home/ashishk/anaconda3/envs/ml/lib/python3.10/site-packages/sklearn/metrics/_scorer.py\", line 418, in _passthrough_scorer\n",
      "    return estimator.score(*args, **kwargs)\n",
      "  File \"/home/ashishk/anaconda3/envs/ml/lib/python3.10/site-packages/sklearn/base.py\", line 701, in score\n",
      "    return r2_score(y, y_pred, sample_weight=sample_weight)\n",
      "  File \"/home/ashishk/anaconda3/envs/ml/lib/python3.10/site-packages/sklearn/metrics/_regression.py\", line 774, in r2_score\n",
      "    y_type, y_true, y_pred, multioutput = _check_reg_targets(\n",
      "  File \"/home/ashishk/anaconda3/envs/ml/lib/python3.10/site-packages/sklearn/metrics/_regression.py\", line 91, in _check_reg_targets\n",
      "    y_pred = check_array(y_pred, ensure_2d=False, dtype=dtype)\n",
      "  File \"/home/ashishk/anaconda3/envs/ml/lib/python3.10/site-packages/sklearn/utils/validation.py\", line 792, in check_array\n",
      "    _assert_all_finite(array, allow_nan=force_all_finite == \"allow-nan\")\n",
      "  File \"/home/ashishk/anaconda3/envs/ml/lib/python3.10/site-packages/sklearn/utils/validation.py\", line 114, in _assert_all_finite\n",
      "    raise ValueError(\n",
      "ValueError: Input contains NaN, infinity or a value too large for dtype('float64').\n",
      "\n",
      "  warnings.warn(\n",
      "/tmp/ipykernel_53906/1946996494.py:14: RuntimeWarning: overflow encountered in multiply\n",
      "  gradient = 2 * X.T.dot(X.dot(theta) - y)/m # Gradient\n",
      "/tmp/ipykernel_53906/1946996494.py:15: RuntimeWarning: invalid value encountered in subtract\n",
      "  theta = theta - self.alpha * gradient #see cs229 notes\n",
      "/home/ashishk/anaconda3/envs/ml/lib/python3.10/site-packages/sklearn/model_selection/_validation.py:771: UserWarning: Scoring failed. The score on this train-test partition for these parameters will be set to nan. Details: \n",
      "Traceback (most recent call last):\n",
      "  File \"/home/ashishk/anaconda3/envs/ml/lib/python3.10/site-packages/sklearn/model_selection/_validation.py\", line 762, in _score\n",
      "    scores = scorer(estimator, X_test, y_test)\n",
      "  File \"/home/ashishk/anaconda3/envs/ml/lib/python3.10/site-packages/sklearn/metrics/_scorer.py\", line 418, in _passthrough_scorer\n",
      "    return estimator.score(*args, **kwargs)\n",
      "  File \"/home/ashishk/anaconda3/envs/ml/lib/python3.10/site-packages/sklearn/base.py\", line 701, in score\n",
      "    return r2_score(y, y_pred, sample_weight=sample_weight)\n",
      "  File \"/home/ashishk/anaconda3/envs/ml/lib/python3.10/site-packages/sklearn/metrics/_regression.py\", line 774, in r2_score\n",
      "    y_type, y_true, y_pred, multioutput = _check_reg_targets(\n",
      "  File \"/home/ashishk/anaconda3/envs/ml/lib/python3.10/site-packages/sklearn/metrics/_regression.py\", line 91, in _check_reg_targets\n",
      "    y_pred = check_array(y_pred, ensure_2d=False, dtype=dtype)\n",
      "  File \"/home/ashishk/anaconda3/envs/ml/lib/python3.10/site-packages/sklearn/utils/validation.py\", line 792, in check_array\n",
      "    _assert_all_finite(array, allow_nan=force_all_finite == \"allow-nan\")\n",
      "  File \"/home/ashishk/anaconda3/envs/ml/lib/python3.10/site-packages/sklearn/utils/validation.py\", line 114, in _assert_all_finite\n",
      "    raise ValueError(\n",
      "ValueError: Input contains NaN, infinity or a value too large for dtype('float64').\n",
      "\n",
      "  warnings.warn(\n",
      "/tmp/ipykernel_53906/1946996494.py:14: RuntimeWarning: overflow encountered in multiply\n",
      "  gradient = 2 * X.T.dot(X.dot(theta) - y)/m # Gradient\n",
      "/tmp/ipykernel_53906/1946996494.py:15: RuntimeWarning: invalid value encountered in subtract\n",
      "  theta = theta - self.alpha * gradient #see cs229 notes\n",
      "/home/ashishk/anaconda3/envs/ml/lib/python3.10/site-packages/sklearn/model_selection/_validation.py:771: UserWarning: Scoring failed. The score on this train-test partition for these parameters will be set to nan. Details: \n",
      "Traceback (most recent call last):\n",
      "  File \"/home/ashishk/anaconda3/envs/ml/lib/python3.10/site-packages/sklearn/model_selection/_validation.py\", line 762, in _score\n",
      "    scores = scorer(estimator, X_test, y_test)\n",
      "  File \"/home/ashishk/anaconda3/envs/ml/lib/python3.10/site-packages/sklearn/metrics/_scorer.py\", line 418, in _passthrough_scorer\n",
      "    return estimator.score(*args, **kwargs)\n",
      "  File \"/home/ashishk/anaconda3/envs/ml/lib/python3.10/site-packages/sklearn/base.py\", line 701, in score\n",
      "    return r2_score(y, y_pred, sample_weight=sample_weight)\n",
      "  File \"/home/ashishk/anaconda3/envs/ml/lib/python3.10/site-packages/sklearn/metrics/_regression.py\", line 774, in r2_score\n",
      "    y_type, y_true, y_pred, multioutput = _check_reg_targets(\n",
      "  File \"/home/ashishk/anaconda3/envs/ml/lib/python3.10/site-packages/sklearn/metrics/_regression.py\", line 91, in _check_reg_targets\n",
      "    y_pred = check_array(y_pred, ensure_2d=False, dtype=dtype)\n",
      "  File \"/home/ashishk/anaconda3/envs/ml/lib/python3.10/site-packages/sklearn/utils/validation.py\", line 792, in check_array\n",
      "    _assert_all_finite(array, allow_nan=force_all_finite == \"allow-nan\")\n",
      "  File \"/home/ashishk/anaconda3/envs/ml/lib/python3.10/site-packages/sklearn/utils/validation.py\", line 114, in _assert_all_finite\n",
      "    raise ValueError(\n",
      "ValueError: Input contains NaN, infinity or a value too large for dtype('float64').\n",
      "\n",
      "  warnings.warn(\n",
      "/tmp/ipykernel_53906/1946996494.py:14: RuntimeWarning: overflow encountered in multiply\n",
      "  gradient = 2 * X.T.dot(X.dot(theta) - y)/m # Gradient\n",
      "/tmp/ipykernel_53906/1946996494.py:15: RuntimeWarning: invalid value encountered in subtract\n",
      "  theta = theta - self.alpha * gradient #see cs229 notes\n",
      "/home/ashishk/anaconda3/envs/ml/lib/python3.10/site-packages/sklearn/model_selection/_validation.py:771: UserWarning: Scoring failed. The score on this train-test partition for these parameters will be set to nan. Details: \n",
      "Traceback (most recent call last):\n",
      "  File \"/home/ashishk/anaconda3/envs/ml/lib/python3.10/site-packages/sklearn/model_selection/_validation.py\", line 762, in _score\n",
      "    scores = scorer(estimator, X_test, y_test)\n",
      "  File \"/home/ashishk/anaconda3/envs/ml/lib/python3.10/site-packages/sklearn/metrics/_scorer.py\", line 418, in _passthrough_scorer\n",
      "    return estimator.score(*args, **kwargs)\n",
      "  File \"/home/ashishk/anaconda3/envs/ml/lib/python3.10/site-packages/sklearn/base.py\", line 701, in score\n",
      "    return r2_score(y, y_pred, sample_weight=sample_weight)\n",
      "  File \"/home/ashishk/anaconda3/envs/ml/lib/python3.10/site-packages/sklearn/metrics/_regression.py\", line 774, in r2_score\n",
      "    y_type, y_true, y_pred, multioutput = _check_reg_targets(\n",
      "  File \"/home/ashishk/anaconda3/envs/ml/lib/python3.10/site-packages/sklearn/metrics/_regression.py\", line 91, in _check_reg_targets\n",
      "    y_pred = check_array(y_pred, ensure_2d=False, dtype=dtype)\n",
      "  File \"/home/ashishk/anaconda3/envs/ml/lib/python3.10/site-packages/sklearn/utils/validation.py\", line 792, in check_array\n",
      "    _assert_all_finite(array, allow_nan=force_all_finite == \"allow-nan\")\n",
      "  File \"/home/ashishk/anaconda3/envs/ml/lib/python3.10/site-packages/sklearn/utils/validation.py\", line 114, in _assert_all_finite\n",
      "    raise ValueError(\n",
      "ValueError: Input contains NaN, infinity or a value too large for dtype('float64').\n",
      "\n",
      "  warnings.warn(\n",
      "/tmp/ipykernel_53906/1946996494.py:14: RuntimeWarning: overflow encountered in multiply\n",
      "  gradient = 2 * X.T.dot(X.dot(theta) - y)/m # Gradient\n",
      "/tmp/ipykernel_53906/1946996494.py:15: RuntimeWarning: invalid value encountered in subtract\n",
      "  theta = theta - self.alpha * gradient #see cs229 notes\n",
      "/home/ashishk/anaconda3/envs/ml/lib/python3.10/site-packages/sklearn/model_selection/_validation.py:771: UserWarning: Scoring failed. The score on this train-test partition for these parameters will be set to nan. Details: \n",
      "Traceback (most recent call last):\n",
      "  File \"/home/ashishk/anaconda3/envs/ml/lib/python3.10/site-packages/sklearn/model_selection/_validation.py\", line 762, in _score\n",
      "    scores = scorer(estimator, X_test, y_test)\n",
      "  File \"/home/ashishk/anaconda3/envs/ml/lib/python3.10/site-packages/sklearn/metrics/_scorer.py\", line 418, in _passthrough_scorer\n",
      "    return estimator.score(*args, **kwargs)\n",
      "  File \"/home/ashishk/anaconda3/envs/ml/lib/python3.10/site-packages/sklearn/base.py\", line 701, in score\n",
      "    return r2_score(y, y_pred, sample_weight=sample_weight)\n",
      "  File \"/home/ashishk/anaconda3/envs/ml/lib/python3.10/site-packages/sklearn/metrics/_regression.py\", line 774, in r2_score\n",
      "    y_type, y_true, y_pred, multioutput = _check_reg_targets(\n",
      "  File \"/home/ashishk/anaconda3/envs/ml/lib/python3.10/site-packages/sklearn/metrics/_regression.py\", line 91, in _check_reg_targets\n",
      "    y_pred = check_array(y_pred, ensure_2d=False, dtype=dtype)\n",
      "  File \"/home/ashishk/anaconda3/envs/ml/lib/python3.10/site-packages/sklearn/utils/validation.py\", line 792, in check_array\n",
      "    _assert_all_finite(array, allow_nan=force_all_finite == \"allow-nan\")\n",
      "  File \"/home/ashishk/anaconda3/envs/ml/lib/python3.10/site-packages/sklearn/utils/validation.py\", line 114, in _assert_all_finite\n",
      "    raise ValueError(\n",
      "ValueError: Input contains NaN, infinity or a value too large for dtype('float64').\n",
      "\n",
      "  warnings.warn(\n"
     ]
    },
    {
     "name": "stderr",
     "output_type": "stream",
     "text": [
      "/tmp/ipykernel_53906/1946996494.py:14: RuntimeWarning: overflow encountered in multiply\n",
      "  gradient = 2 * X.T.dot(X.dot(theta) - y)/m # Gradient\n",
      "/tmp/ipykernel_53906/1946996494.py:15: RuntimeWarning: invalid value encountered in subtract\n",
      "  theta = theta - self.alpha * gradient #see cs229 notes\n",
      "/home/ashishk/anaconda3/envs/ml/lib/python3.10/site-packages/sklearn/model_selection/_validation.py:771: UserWarning: Scoring failed. The score on this train-test partition for these parameters will be set to nan. Details: \n",
      "Traceback (most recent call last):\n",
      "  File \"/home/ashishk/anaconda3/envs/ml/lib/python3.10/site-packages/sklearn/model_selection/_validation.py\", line 762, in _score\n",
      "    scores = scorer(estimator, X_test, y_test)\n",
      "  File \"/home/ashishk/anaconda3/envs/ml/lib/python3.10/site-packages/sklearn/metrics/_scorer.py\", line 418, in _passthrough_scorer\n",
      "    return estimator.score(*args, **kwargs)\n",
      "  File \"/home/ashishk/anaconda3/envs/ml/lib/python3.10/site-packages/sklearn/base.py\", line 701, in score\n",
      "    return r2_score(y, y_pred, sample_weight=sample_weight)\n",
      "  File \"/home/ashishk/anaconda3/envs/ml/lib/python3.10/site-packages/sklearn/metrics/_regression.py\", line 774, in r2_score\n",
      "    y_type, y_true, y_pred, multioutput = _check_reg_targets(\n",
      "  File \"/home/ashishk/anaconda3/envs/ml/lib/python3.10/site-packages/sklearn/metrics/_regression.py\", line 91, in _check_reg_targets\n",
      "    y_pred = check_array(y_pred, ensure_2d=False, dtype=dtype)\n",
      "  File \"/home/ashishk/anaconda3/envs/ml/lib/python3.10/site-packages/sklearn/utils/validation.py\", line 792, in check_array\n",
      "    _assert_all_finite(array, allow_nan=force_all_finite == \"allow-nan\")\n",
      "  File \"/home/ashishk/anaconda3/envs/ml/lib/python3.10/site-packages/sklearn/utils/validation.py\", line 114, in _assert_all_finite\n",
      "    raise ValueError(\n",
      "ValueError: Input contains NaN, infinity or a value too large for dtype('float64').\n",
      "\n",
      "  warnings.warn(\n",
      "/tmp/ipykernel_53906/1946996494.py:14: RuntimeWarning: overflow encountered in multiply\n",
      "  gradient = 2 * X.T.dot(X.dot(theta) - y)/m # Gradient\n",
      "/tmp/ipykernel_53906/1946996494.py:15: RuntimeWarning: invalid value encountered in subtract\n",
      "  theta = theta - self.alpha * gradient #see cs229 notes\n",
      "/home/ashishk/anaconda3/envs/ml/lib/python3.10/site-packages/sklearn/model_selection/_validation.py:771: UserWarning: Scoring failed. The score on this train-test partition for these parameters will be set to nan. Details: \n",
      "Traceback (most recent call last):\n",
      "  File \"/home/ashishk/anaconda3/envs/ml/lib/python3.10/site-packages/sklearn/model_selection/_validation.py\", line 762, in _score\n",
      "    scores = scorer(estimator, X_test, y_test)\n",
      "  File \"/home/ashishk/anaconda3/envs/ml/lib/python3.10/site-packages/sklearn/metrics/_scorer.py\", line 418, in _passthrough_scorer\n",
      "    return estimator.score(*args, **kwargs)\n",
      "  File \"/home/ashishk/anaconda3/envs/ml/lib/python3.10/site-packages/sklearn/base.py\", line 701, in score\n",
      "    return r2_score(y, y_pred, sample_weight=sample_weight)\n",
      "  File \"/home/ashishk/anaconda3/envs/ml/lib/python3.10/site-packages/sklearn/metrics/_regression.py\", line 774, in r2_score\n",
      "    y_type, y_true, y_pred, multioutput = _check_reg_targets(\n",
      "  File \"/home/ashishk/anaconda3/envs/ml/lib/python3.10/site-packages/sklearn/metrics/_regression.py\", line 91, in _check_reg_targets\n",
      "    y_pred = check_array(y_pred, ensure_2d=False, dtype=dtype)\n",
      "  File \"/home/ashishk/anaconda3/envs/ml/lib/python3.10/site-packages/sklearn/utils/validation.py\", line 792, in check_array\n",
      "    _assert_all_finite(array, allow_nan=force_all_finite == \"allow-nan\")\n",
      "  File \"/home/ashishk/anaconda3/envs/ml/lib/python3.10/site-packages/sklearn/utils/validation.py\", line 114, in _assert_all_finite\n",
      "    raise ValueError(\n",
      "ValueError: Input contains NaN, infinity or a value too large for dtype('float64').\n",
      "\n",
      "  warnings.warn(\n",
      "/tmp/ipykernel_53906/1946996494.py:14: RuntimeWarning: overflow encountered in multiply\n",
      "  gradient = 2 * X.T.dot(X.dot(theta) - y)/m # Gradient\n",
      "/tmp/ipykernel_53906/1946996494.py:15: RuntimeWarning: invalid value encountered in subtract\n",
      "  theta = theta - self.alpha * gradient #see cs229 notes\n",
      "/home/ashishk/anaconda3/envs/ml/lib/python3.10/site-packages/sklearn/model_selection/_validation.py:771: UserWarning: Scoring failed. The score on this train-test partition for these parameters will be set to nan. Details: \n",
      "Traceback (most recent call last):\n",
      "  File \"/home/ashishk/anaconda3/envs/ml/lib/python3.10/site-packages/sklearn/model_selection/_validation.py\", line 762, in _score\n",
      "    scores = scorer(estimator, X_test, y_test)\n",
      "  File \"/home/ashishk/anaconda3/envs/ml/lib/python3.10/site-packages/sklearn/metrics/_scorer.py\", line 418, in _passthrough_scorer\n",
      "    return estimator.score(*args, **kwargs)\n",
      "  File \"/home/ashishk/anaconda3/envs/ml/lib/python3.10/site-packages/sklearn/base.py\", line 701, in score\n",
      "    return r2_score(y, y_pred, sample_weight=sample_weight)\n",
      "  File \"/home/ashishk/anaconda3/envs/ml/lib/python3.10/site-packages/sklearn/metrics/_regression.py\", line 774, in r2_score\n",
      "    y_type, y_true, y_pred, multioutput = _check_reg_targets(\n",
      "  File \"/home/ashishk/anaconda3/envs/ml/lib/python3.10/site-packages/sklearn/metrics/_regression.py\", line 91, in _check_reg_targets\n",
      "    y_pred = check_array(y_pred, ensure_2d=False, dtype=dtype)\n",
      "  File \"/home/ashishk/anaconda3/envs/ml/lib/python3.10/site-packages/sklearn/utils/validation.py\", line 792, in check_array\n",
      "    _assert_all_finite(array, allow_nan=force_all_finite == \"allow-nan\")\n",
      "  File \"/home/ashishk/anaconda3/envs/ml/lib/python3.10/site-packages/sklearn/utils/validation.py\", line 114, in _assert_all_finite\n",
      "    raise ValueError(\n",
      "ValueError: Input contains NaN, infinity or a value too large for dtype('float64').\n",
      "\n",
      "  warnings.warn(\n",
      "/tmp/ipykernel_53906/1946996494.py:14: RuntimeWarning: overflow encountered in multiply\n",
      "  gradient = 2 * X.T.dot(X.dot(theta) - y)/m # Gradient\n",
      "/tmp/ipykernel_53906/1946996494.py:15: RuntimeWarning: invalid value encountered in subtract\n",
      "  theta = theta - self.alpha * gradient #see cs229 notes\n",
      "/home/ashishk/anaconda3/envs/ml/lib/python3.10/site-packages/sklearn/model_selection/_validation.py:771: UserWarning: Scoring failed. The score on this train-test partition for these parameters will be set to nan. Details: \n",
      "Traceback (most recent call last):\n",
      "  File \"/home/ashishk/anaconda3/envs/ml/lib/python3.10/site-packages/sklearn/model_selection/_validation.py\", line 762, in _score\n",
      "    scores = scorer(estimator, X_test, y_test)\n",
      "  File \"/home/ashishk/anaconda3/envs/ml/lib/python3.10/site-packages/sklearn/metrics/_scorer.py\", line 418, in _passthrough_scorer\n",
      "    return estimator.score(*args, **kwargs)\n",
      "  File \"/home/ashishk/anaconda3/envs/ml/lib/python3.10/site-packages/sklearn/base.py\", line 701, in score\n",
      "    return r2_score(y, y_pred, sample_weight=sample_weight)\n",
      "  File \"/home/ashishk/anaconda3/envs/ml/lib/python3.10/site-packages/sklearn/metrics/_regression.py\", line 774, in r2_score\n",
      "    y_type, y_true, y_pred, multioutput = _check_reg_targets(\n",
      "  File \"/home/ashishk/anaconda3/envs/ml/lib/python3.10/site-packages/sklearn/metrics/_regression.py\", line 91, in _check_reg_targets\n",
      "    y_pred = check_array(y_pred, ensure_2d=False, dtype=dtype)\n",
      "  File \"/home/ashishk/anaconda3/envs/ml/lib/python3.10/site-packages/sklearn/utils/validation.py\", line 792, in check_array\n",
      "    _assert_all_finite(array, allow_nan=force_all_finite == \"allow-nan\")\n",
      "  File \"/home/ashishk/anaconda3/envs/ml/lib/python3.10/site-packages/sklearn/utils/validation.py\", line 114, in _assert_all_finite\n",
      "    raise ValueError(\n",
      "ValueError: Input contains NaN, infinity or a value too large for dtype('float64').\n",
      "\n",
      "  warnings.warn(\n",
      "/tmp/ipykernel_53906/1946996494.py:14: RuntimeWarning: overflow encountered in multiply\n",
      "  gradient = 2 * X.T.dot(X.dot(theta) - y)/m # Gradient\n",
      "/tmp/ipykernel_53906/1946996494.py:15: RuntimeWarning: invalid value encountered in subtract\n",
      "  theta = theta - self.alpha * gradient #see cs229 notes\n",
      "/home/ashishk/anaconda3/envs/ml/lib/python3.10/site-packages/sklearn/model_selection/_validation.py:771: UserWarning: Scoring failed. The score on this train-test partition for these parameters will be set to nan. Details: \n",
      "Traceback (most recent call last):\n",
      "  File \"/home/ashishk/anaconda3/envs/ml/lib/python3.10/site-packages/sklearn/model_selection/_validation.py\", line 762, in _score\n",
      "    scores = scorer(estimator, X_test, y_test)\n",
      "  File \"/home/ashishk/anaconda3/envs/ml/lib/python3.10/site-packages/sklearn/metrics/_scorer.py\", line 418, in _passthrough_scorer\n",
      "    return estimator.score(*args, **kwargs)\n",
      "  File \"/home/ashishk/anaconda3/envs/ml/lib/python3.10/site-packages/sklearn/base.py\", line 701, in score\n",
      "    return r2_score(y, y_pred, sample_weight=sample_weight)\n",
      "  File \"/home/ashishk/anaconda3/envs/ml/lib/python3.10/site-packages/sklearn/metrics/_regression.py\", line 774, in r2_score\n",
      "    y_type, y_true, y_pred, multioutput = _check_reg_targets(\n",
      "  File \"/home/ashishk/anaconda3/envs/ml/lib/python3.10/site-packages/sklearn/metrics/_regression.py\", line 91, in _check_reg_targets\n",
      "    y_pred = check_array(y_pred, ensure_2d=False, dtype=dtype)\n",
      "  File \"/home/ashishk/anaconda3/envs/ml/lib/python3.10/site-packages/sklearn/utils/validation.py\", line 792, in check_array\n",
      "    _assert_all_finite(array, allow_nan=force_all_finite == \"allow-nan\")\n",
      "  File \"/home/ashishk/anaconda3/envs/ml/lib/python3.10/site-packages/sklearn/utils/validation.py\", line 114, in _assert_all_finite\n",
      "    raise ValueError(\n",
      "ValueError: Input contains NaN, infinity or a value too large for dtype('float64').\n",
      "\n",
      "  warnings.warn(\n"
     ]
    },
    {
     "name": "stderr",
     "output_type": "stream",
     "text": [
      "/tmp/ipykernel_53906/1946996494.py:14: RuntimeWarning: overflow encountered in multiply\n",
      "  gradient = 2 * X.T.dot(X.dot(theta) - y)/m # Gradient\n",
      "/tmp/ipykernel_53906/1946996494.py:15: RuntimeWarning: invalid value encountered in subtract\n",
      "  theta = theta - self.alpha * gradient #see cs229 notes\n",
      "/home/ashishk/anaconda3/envs/ml/lib/python3.10/site-packages/sklearn/model_selection/_validation.py:771: UserWarning: Scoring failed. The score on this train-test partition for these parameters will be set to nan. Details: \n",
      "Traceback (most recent call last):\n",
      "  File \"/home/ashishk/anaconda3/envs/ml/lib/python3.10/site-packages/sklearn/model_selection/_validation.py\", line 762, in _score\n",
      "    scores = scorer(estimator, X_test, y_test)\n",
      "  File \"/home/ashishk/anaconda3/envs/ml/lib/python3.10/site-packages/sklearn/metrics/_scorer.py\", line 418, in _passthrough_scorer\n",
      "    return estimator.score(*args, **kwargs)\n",
      "  File \"/home/ashishk/anaconda3/envs/ml/lib/python3.10/site-packages/sklearn/base.py\", line 701, in score\n",
      "    return r2_score(y, y_pred, sample_weight=sample_weight)\n",
      "  File \"/home/ashishk/anaconda3/envs/ml/lib/python3.10/site-packages/sklearn/metrics/_regression.py\", line 774, in r2_score\n",
      "    y_type, y_true, y_pred, multioutput = _check_reg_targets(\n",
      "  File \"/home/ashishk/anaconda3/envs/ml/lib/python3.10/site-packages/sklearn/metrics/_regression.py\", line 91, in _check_reg_targets\n",
      "    y_pred = check_array(y_pred, ensure_2d=False, dtype=dtype)\n",
      "  File \"/home/ashishk/anaconda3/envs/ml/lib/python3.10/site-packages/sklearn/utils/validation.py\", line 792, in check_array\n",
      "    _assert_all_finite(array, allow_nan=force_all_finite == \"allow-nan\")\n",
      "  File \"/home/ashishk/anaconda3/envs/ml/lib/python3.10/site-packages/sklearn/utils/validation.py\", line 114, in _assert_all_finite\n",
      "    raise ValueError(\n",
      "ValueError: Input contains NaN, infinity or a value too large for dtype('float64').\n",
      "\n",
      "  warnings.warn(\n",
      "/tmp/ipykernel_53906/1946996494.py:14: RuntimeWarning: overflow encountered in multiply\n",
      "  gradient = 2 * X.T.dot(X.dot(theta) - y)/m # Gradient\n",
      "/tmp/ipykernel_53906/1946996494.py:15: RuntimeWarning: invalid value encountered in subtract\n",
      "  theta = theta - self.alpha * gradient #see cs229 notes\n",
      "/home/ashishk/anaconda3/envs/ml/lib/python3.10/site-packages/sklearn/model_selection/_validation.py:771: UserWarning: Scoring failed. The score on this train-test partition for these parameters will be set to nan. Details: \n",
      "Traceback (most recent call last):\n",
      "  File \"/home/ashishk/anaconda3/envs/ml/lib/python3.10/site-packages/sklearn/model_selection/_validation.py\", line 762, in _score\n",
      "    scores = scorer(estimator, X_test, y_test)\n",
      "  File \"/home/ashishk/anaconda3/envs/ml/lib/python3.10/site-packages/sklearn/metrics/_scorer.py\", line 418, in _passthrough_scorer\n",
      "    return estimator.score(*args, **kwargs)\n",
      "  File \"/home/ashishk/anaconda3/envs/ml/lib/python3.10/site-packages/sklearn/base.py\", line 701, in score\n",
      "    return r2_score(y, y_pred, sample_weight=sample_weight)\n",
      "  File \"/home/ashishk/anaconda3/envs/ml/lib/python3.10/site-packages/sklearn/metrics/_regression.py\", line 774, in r2_score\n",
      "    y_type, y_true, y_pred, multioutput = _check_reg_targets(\n",
      "  File \"/home/ashishk/anaconda3/envs/ml/lib/python3.10/site-packages/sklearn/metrics/_regression.py\", line 91, in _check_reg_targets\n",
      "    y_pred = check_array(y_pred, ensure_2d=False, dtype=dtype)\n",
      "  File \"/home/ashishk/anaconda3/envs/ml/lib/python3.10/site-packages/sklearn/utils/validation.py\", line 792, in check_array\n",
      "    _assert_all_finite(array, allow_nan=force_all_finite == \"allow-nan\")\n",
      "  File \"/home/ashishk/anaconda3/envs/ml/lib/python3.10/site-packages/sklearn/utils/validation.py\", line 114, in _assert_all_finite\n",
      "    raise ValueError(\n",
      "ValueError: Input contains NaN, infinity or a value too large for dtype('float64').\n",
      "\n",
      "  warnings.warn(\n",
      "/home/ashishk/anaconda3/envs/ml/lib/python3.10/site-packages/sklearn/model_selection/_search.py:969: UserWarning: One or more of the test scores are non-finite: [ 6.94325092e-001  6.94325092e-001  6.94325092e-001  6.94325092e-001\n",
      "  6.94325092e-001  6.94325092e-001  6.94325092e-001  6.94325092e-001\n",
      "              nan              nan              nan -1.71156958e+155]\n",
      "  warnings.warn(\n",
      "/home/ashishk/anaconda3/envs/ml/lib/python3.10/site-packages/sklearn/model_selection/_search.py:978: RuntimeWarning: overflow encountered in square\n",
      "  (array - array_means[:, np.newaxis]) ** 2, axis=1, weights=weights\n"
     ]
    },
    {
     "data": {
      "text/plain": [
       "GridSearchCV(cv=5, estimator=GDRegressor(),\n",
       "             param_grid={'alpha': [0.01, 0.1, 1],\n",
       "                         'n_iter': [10000, 15000, 20000, 1000]})"
      ]
     },
     "execution_count": 22,
     "metadata": {},
     "output_type": "execute_result"
    }
   ],
   "source": [
    "grid_search.fit(train_X,train_y)"
   ]
  },
  {
   "cell_type": "code",
   "execution_count": 23,
   "id": "bde7320d",
   "metadata": {},
   "outputs": [],
   "source": [
    "lin_reg = grid_search.best_estimator_"
   ]
  },
  {
   "cell_type": "code",
   "execution_count": 26,
   "id": "e90e3a94",
   "metadata": {},
   "outputs": [
    {
     "data": {
      "text/plain": [
       "<bound method BaseEstimator.get_params of GDRegressor(alpha=0.1)>"
      ]
     },
     "execution_count": 26,
     "metadata": {},
     "output_type": "execute_result"
    }
   ],
   "source": [
    "lin_reg.get_params"
   ]
  },
  {
   "cell_type": "code",
   "execution_count": 24,
   "id": "1c7145ae",
   "metadata": {},
   "outputs": [],
   "source": [
    "test_pred = lin_reg.predict(test_X)"
   ]
  },
  {
   "cell_type": "code",
   "execution_count": 25,
   "id": "d27b40b0",
   "metadata": {},
   "outputs": [
    {
     "data": {
      "text/plain": [
       "21.28470705971814"
      ]
     },
     "execution_count": 25,
     "metadata": {},
     "output_type": "execute_result"
    }
   ],
   "source": [
    "test_rmse = np.sqrt(mean_squared_error(test_y,test_pred))\n",
    "test_rmse #no sign of overfitting, notice the noise was 20 when data was generated"
   ]
  },
  {
   "cell_type": "markdown",
   "id": "dede69e0",
   "metadata": {},
   "source": [
    "## Comparsion with sklearn's ordinary least squares"
   ]
  },
  {
   "cell_type": "code",
   "execution_count": 27,
   "id": "41ead6ed",
   "metadata": {},
   "outputs": [],
   "source": [
    "olsq = LinearRegression()"
   ]
  },
  {
   "cell_type": "code",
   "execution_count": 28,
   "id": "47922b43",
   "metadata": {},
   "outputs": [
    {
     "data": {
      "text/plain": [
       "LinearRegression()"
      ]
     },
     "execution_count": 28,
     "metadata": {},
     "output_type": "execute_result"
    }
   ],
   "source": [
    "olsq.fit(train_X,train_y)"
   ]
  },
  {
   "cell_type": "code",
   "execution_count": 29,
   "id": "2bccdb74",
   "metadata": {},
   "outputs": [],
   "source": [
    "train_pred_olsq = olsq.predict(train_X)"
   ]
  },
  {
   "cell_type": "code",
   "execution_count": 30,
   "id": "c873c6b5",
   "metadata": {},
   "outputs": [
    {
     "data": {
      "text/plain": [
       "20.24912349372604"
      ]
     },
     "execution_count": 30,
     "metadata": {},
     "output_type": "execute_result"
    }
   ],
   "source": [
    "np.sqrt(mean_squared_error(train_y,train_pred_olsq))"
   ]
  },
  {
   "cell_type": "code",
   "execution_count": 31,
   "id": "0c8e8eba",
   "metadata": {},
   "outputs": [],
   "source": [
    "test_pred_olsq = olsq.predict(test_X)"
   ]
  },
  {
   "cell_type": "code",
   "execution_count": 32,
   "id": "495f96b3",
   "metadata": {},
   "outputs": [
    {
     "data": {
      "text/plain": [
       "21.284707059718144"
      ]
     },
     "execution_count": 32,
     "metadata": {},
     "output_type": "execute_result"
    }
   ],
   "source": [
    "np.sqrt(mean_squared_error(test_y,test_pred_olsq))"
   ]
  }
 ],
 "metadata": {
  "kernelspec": {
   "display_name": "Python 3 (ipykernel)",
   "language": "python",
   "name": "python3"
  },
  "language_info": {
   "codemirror_mode": {
    "name": "ipython",
    "version": 3
   },
   "file_extension": ".py",
   "mimetype": "text/x-python",
   "name": "python",
   "nbconvert_exporter": "python",
   "pygments_lexer": "ipython3",
   "version": "3.10.4"
  }
 },
 "nbformat": 4,
 "nbformat_minor": 5
}
