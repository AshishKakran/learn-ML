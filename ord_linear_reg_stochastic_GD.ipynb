{
 "cells": [
  {
   "cell_type": "markdown",
   "id": "5afacd53",
   "metadata": {},
   "source": [
    "# Linear regression using stochastic gradient descent"
   ]
  },
  {
   "cell_type": "code",
   "execution_count": 1,
   "id": "0fd1173a",
   "metadata": {},
   "outputs": [],
   "source": [
    "import sys\n",
    "assert sys.version_info >=(3,5)\n",
    "\n",
    "from sklearn import __version__ as skversion\n",
    "assert skversion >= \"1\""
   ]
  },
  {
   "cell_type": "code",
   "execution_count": 2,
   "id": "48948896",
   "metadata": {},
   "outputs": [
    {
     "data": {
      "text/plain": [
       "'1.0.1'"
      ]
     },
     "execution_count": 2,
     "metadata": {},
     "output_type": "execute_result"
    }
   ],
   "source": [
    "skversion"
   ]
  },
  {
   "cell_type": "code",
   "execution_count": 42,
   "id": "406c149b",
   "metadata": {},
   "outputs": [],
   "source": [
    "from sklearn.datasets import make_regression\n",
    "from sklearn.model_selection import train_test_split,GridSearchCV,cross_val_score\n",
    "from sklearn.metrics import mean_squared_error\n",
    "from sklearn.linear_model import SGDRegressor\n",
    "from sklearn.base import BaseEstimator,RegressorMixin"
   ]
  },
  {
   "cell_type": "code",
   "execution_count": 9,
   "id": "92dc9640",
   "metadata": {},
   "outputs": [],
   "source": [
    "X,y, coeff = make_regression(n_samples=1000, n_features=1,coef=True, noise=20)"
   ]
  },
  {
   "cell_type": "code",
   "execution_count": 5,
   "id": "04ce0c96",
   "metadata": {},
   "outputs": [],
   "source": [
    "import seaborn as sns\n",
    "import numpy as np\n",
    "import matplotlib.pyplot as plt"
   ]
  },
  {
   "cell_type": "code",
   "execution_count": 6,
   "id": "844f9e66",
   "metadata": {},
   "outputs": [],
   "source": [
    "sns.set_theme(style=\"darkgrid\")"
   ]
  },
  {
   "cell_type": "code",
   "execution_count": 10,
   "id": "4d6dcc3c",
   "metadata": {},
   "outputs": [],
   "source": [
    "train_X,test_X, train_y, test_y = train_test_split(X,y, test_size=0.2,random_state=42)"
   ]
  },
  {
   "cell_type": "code",
   "execution_count": 11,
   "id": "ad977d90",
   "metadata": {},
   "outputs": [
    {
     "data": {
      "image/png": "[encoded data removed]",
      "text/plain": [
       "<Figure size 432x288 with 1 Axes>"
      ]
     },
     "metadata": {},
     "output_type": "display_data"
    }
   ],
   "source": [
    "fig,axes = plt.subplots(1, layout='constrained')\n",
    "axes.scatter(train_X,train_y)\n",
    "plt.xlabel('train_x')\n",
    "plt.ylabel('train_y')\n",
    "plt.title('randomly generated data')\n",
    "plt.show()"
   ]
  },
  {
   "cell_type": "code",
   "execution_count": 18,
   "id": "125eb85f",
   "metadata": {},
   "outputs": [],
   "source": [
    "class StochasticGD(BaseEstimator,RegressorMixin):\n",
    "    def __init__(self,alpha=1,n_epochs=50,t0=5,t1=50):\n",
    "        self.alpha = alpha\n",
    "        self.n_epochs = n_epochs\n",
    "        self.t0 = t0\n",
    "        self.t1 = t1\n",
    "    \n",
    "    def __learning_schedule(self,t):\n",
    "        return self.t0/(t + self.t1)\n",
    "    def fit(self,X,y):\n",
    "        X=np.hstack((np.ones((len(X),1)),X))\n",
    "        y=y.reshape(len(y),1)\n",
    "        m=len(y)\n",
    "        theta = np.random.randn(X.shape[1],1)\n",
    "        \n",
    "        for epoch in range(self.n_epochs):\n",
    "            for i in range(m):\n",
    "                rand_index = np.random.randint(m)\n",
    "                xi = X[rand_index: rand_index + 1]\n",
    "                yi = y[rand_index: rand_index + 1]\n",
    "                gradients = 2 * xi.T.dot(xi.dot(theta) - yi)\n",
    "                alpha = self.__learning_schedule(epoch * m + i)\n",
    "                theta = theta - alpha * gradients\n",
    "        self.coef = theta\n",
    "        return self\n",
    "    \n",
    "    def predict(self,X=None):\n",
    "        X=np.hstack((np.ones((len(X),1)),X))\n",
    "        return X.dot(self.coef)\n",
    "        "
   ]
  },
  {
   "cell_type": "code",
   "execution_count": 26,
   "id": "393213df",
   "metadata": {},
   "outputs": [],
   "source": [
    "reg = StochasticGD()"
   ]
  },
  {
   "cell_type": "code",
   "execution_count": 27,
   "id": "f723f643",
   "metadata": {},
   "outputs": [
    {
     "data": {
      "text/plain": [
       "StochasticGD()"
      ]
     },
     "execution_count": 27,
     "metadata": {},
     "output_type": "execute_result"
    }
   ],
   "source": [
    "reg.fit(train_X,train_y)"
   ]
  },
  {
   "cell_type": "code",
   "execution_count": 33,
   "id": "75dabb70",
   "metadata": {},
   "outputs": [
    {
     "data": {
      "text/plain": [
       "{'alpha': 1, 'n_epochs': 50, 't0': 5, 't1': 50}"
      ]
     },
     "execution_count": 33,
     "metadata": {},
     "output_type": "execute_result"
    }
   ],
   "source": [
    "reg.get_params()"
   ]
  },
  {
   "cell_type": "code",
   "execution_count": 29,
   "id": "114b369b",
   "metadata": {},
   "outputs": [],
   "source": [
    "train_pred= reg.predict(train_X)"
   ]
  },
  {
   "cell_type": "code",
   "execution_count": 30,
   "id": "aa74d76b",
   "metadata": {},
   "outputs": [
    {
     "data": {
      "text/plain": [
       "20.341142494508546"
      ]
     },
     "execution_count": 30,
     "metadata": {},
     "output_type": "execute_result"
    }
   ],
   "source": [
    "lin_mse = mean_squared_error(train_y,train_pred)\n",
    "lin_rmse=np.sqrt(lin_mse)\n",
    "lin_rmse"
   ]
  },
  {
   "cell_type": "code",
   "execution_count": 31,
   "id": "9e150a3b",
   "metadata": {},
   "outputs": [
    {
     "data": {
      "text/plain": [
       "array([20.75633796, 19.09220376, 20.83981286, 19.97548206, 21.2745926 ])"
      ]
     },
     "execution_count": 31,
     "metadata": {},
     "output_type": "execute_result"
    }
   ],
   "source": [
    "lin_scores = cross_val_score(reg, train_X,train_y,scoring='neg_mean_squared_error', cv=5) # cv requires utility function\n",
    "lin_rmse_scores = np.sqrt(-lin_scores)\n",
    "lin_rmse_scores"
   ]
  },
  {
   "cell_type": "code",
   "execution_count": 32,
   "id": "6b7c87c8",
   "metadata": {},
   "outputs": [
    {
     "data": {
      "image/png": "[encoded data removed]",
      "text/plain": [
       "<Figure size 432x288 with 1 Axes>"
      ]
     },
     "metadata": {},
     "output_type": "display_data"
    }
   ],
   "source": [
    "fig,axes = plt.subplots(1, layout='constrained')\n",
    "axes.plot(train_X,train_y, \"b.\")\n",
    "axes.plot(train_X,train_pred,\"r-\", label=\"predictions\")\n",
    "plt.xlabel('train_x')\n",
    "plt.ylabel('train_y')\n",
    "plt.title('fitting line')\n",
    "plt.legend()\n",
    "plt.show()"
   ]
  },
  {
   "cell_type": "code",
   "execution_count": 34,
   "id": "d9b58631",
   "metadata": {},
   "outputs": [],
   "source": [
    "from sklearn.model_selection import GridSearchCV"
   ]
  },
  {
   "cell_type": "code",
   "execution_count": 36,
   "id": "936b3fa4",
   "metadata": {},
   "outputs": [],
   "source": [
    "param_grid = {'n_epochs': [25,50,100,]}\n",
    "sgdreg = StochasticGD()\n",
    "grid_search = GridSearchCV(sgdreg,param_grid,cv=5)"
   ]
  },
  {
   "cell_type": "code",
   "execution_count": 37,
   "id": "92258e08",
   "metadata": {},
   "outputs": [
    {
     "data": {
      "text/plain": [
       "GridSearchCV(cv=5, estimator=StochasticGD(),\n",
       "             param_grid={'n_epochs': [25, 50, 100]})"
      ]
     },
     "execution_count": 37,
     "metadata": {},
     "output_type": "execute_result"
    }
   ],
   "source": [
    "grid_search.fit(train_X,train_y)"
   ]
  },
  {
   "cell_type": "code",
   "execution_count": 38,
   "id": "abf74343",
   "metadata": {},
   "outputs": [],
   "source": [
    "lin_reg = grid_search.best_estimator_"
   ]
  },
  {
   "cell_type": "code",
   "execution_count": 39,
   "id": "1e153474",
   "metadata": {},
   "outputs": [
    {
     "data": {
      "text/plain": [
       "{'alpha': 1, 'n_epochs': 25, 't0': 5, 't1': 50}"
      ]
     },
     "execution_count": 39,
     "metadata": {},
     "output_type": "execute_result"
    }
   ],
   "source": [
    "lin_reg.get_params()"
   ]
  },
  {
   "cell_type": "code",
   "execution_count": 40,
   "id": "a3695fc7",
   "metadata": {},
   "outputs": [],
   "source": [
    "test_pred = lin_reg.predict(test_X)"
   ]
  },
  {
   "cell_type": "code",
   "execution_count": 41,
   "id": "d585f01e",
   "metadata": {},
   "outputs": [
    {
     "data": {
      "text/plain": [
       "18.556903225225355"
      ]
     },
     "execution_count": 41,
     "metadata": {},
     "output_type": "execute_result"
    }
   ],
   "source": [
    "test_rmse = np.sqrt(mean_squared_error(test_y,test_pred))\n",
    "test_rmse "
   ]
  },
  {
   "cell_type": "markdown",
   "id": "cd0d6c13",
   "metadata": {},
   "source": [
    "## Comparison with sklearn's stochastic GD regressor"
   ]
  },
  {
   "cell_type": "code",
   "execution_count": 53,
   "id": "cfa00be1",
   "metadata": {},
   "outputs": [],
   "source": [
    "sgd = SGDRegressor(loss=\"squared_error\", penalty=\"none\",)"
   ]
  },
  {
   "cell_type": "code",
   "execution_count": 54,
   "id": "edf7ce7a",
   "metadata": {},
   "outputs": [],
   "source": [
    "sgd.fit(train_X,train_y)\n",
    "train_pred_sgd = sgd.predict(train_X)"
   ]
  },
  {
   "cell_type": "code",
   "execution_count": 55,
   "id": "0fb7b22a",
   "metadata": {},
   "outputs": [
    {
     "data": {
      "text/plain": [
       "20.340666936041934"
      ]
     },
     "execution_count": 55,
     "metadata": {},
     "output_type": "execute_result"
    }
   ],
   "source": [
    "np.sqrt(mean_squared_error(train_y,train_pred_sgd))"
   ]
  },
  {
   "cell_type": "code",
   "execution_count": 56,
   "id": "b5c3d926",
   "metadata": {},
   "outputs": [],
   "source": [
    "test_pred_sgd = sgd.predict(test_X)"
   ]
  },
  {
   "cell_type": "code",
   "execution_count": 57,
   "id": "64f3b621",
   "metadata": {},
   "outputs": [
    {
     "data": {
      "text/plain": [
       "18.568418241551598"
      ]
     },
     "execution_count": 57,
     "metadata": {},
     "output_type": "execute_result"
    }
   ],
   "source": [
    "np.sqrt(mean_squared_error(test_y,test_pred_sgd))"
   ]
  }
 ],
 "metadata": {
  "kernelspec": {
   "display_name": "Python 3 (ipykernel)",
   "language": "python",
   "name": "python3"
  },
  "language_info": {
   "codemirror_mode": {
    "name": "ipython",
    "version": 3
   },
   "file_extension": ".py",
   "mimetype": "text/x-python",
   "name": "python",
   "nbconvert_exporter": "python",
   "pygments_lexer": "ipython3",
   "version": "3.10.4"
  }
 },
 "nbformat": 4,
 "nbformat_minor": 5
}
