{
 "cells": [
  {
   "cell_type": "markdown",
   "id": "20a7b822",
   "metadata": {},
   "source": [
    "# Setup "
   ]
  },
  {
   "cell_type": "code",
   "execution_count": 1,
   "id": "60291729",
   "metadata": {},
   "outputs": [],
   "source": [
    "import sys\n",
    "assert sys.version_info >= (3,7)"
   ]
  },
  {
   "cell_type": "code",
   "execution_count": 3,
   "id": "c5a0bcce",
   "metadata": {},
   "outputs": [],
   "source": [
    "from packaging import version\n",
    "import sklearn\n",
    "\n",
    "assert version.parse(sklearn.__version__) >= version.parse(\"1.0.1\")"
   ]
  },
  {
   "cell_type": "code",
   "execution_count": 4,
   "id": "03b9f3b5",
   "metadata": {},
   "outputs": [],
   "source": [
    "import matplotlib.pyplot as plt"
   ]
  },
  {
   "cell_type": "code",
   "execution_count": 5,
   "id": "055d2d5c",
   "metadata": {},
   "outputs": [],
   "source": [
    "plt.rc('font', size = 14)\n",
    "plt.rc('axes', labelsize = 14, titlesize = 14)\n",
    "plt.rc('legend', fontsize = 14)\n",
    "plt.rc('xtick', labelsize = 10)\n",
    "plt.rc('ytick', labelsize = 10)"
   ]
  },
  {
   "cell_type": "markdown",
   "id": "acb105f7",
   "metadata": {},
   "source": [
    "# PCA"
   ]
  },
  {
   "cell_type": "code",
   "execution_count": 7,
   "id": "5c3ba37c",
   "metadata": {},
   "outputs": [],
   "source": [
    "import numpy as np\n",
    "from scipy.spatial.transform import Rotation"
   ]
  },
  {
   "cell_type": "code",
   "execution_count": 8,
   "id": "6a12c46e",
   "metadata": {},
   "outputs": [
    {
     "data": {
      "text/plain": [
       "array([[-7.79425348e-02, -8.24738682e-01, -2.73899800e-01],\n",
       "       [-9.35112071e-01, -8.20462926e-01,  3.40949325e-01],\n",
       "       [ 4.22829302e-01, -8.58801212e-02,  3.12192365e-01],\n",
       "       [ 5.67849563e-01,  6.30549520e-01,  7.75378163e-01],\n",
       "       [-7.67493791e-01, -2.49319547e-01, -6.84489009e-01],\n",
       "       [-3.71368835e-01, -4.74059350e-01, -1.83953445e-02],\n",
       "       [-1.59363414e-01, -8.74231184e-01, -3.74076913e-02],\n",
       "       [ 7.60542608e-01,  9.41524501e-01,  2.58317519e-01],\n",
       "       [-6.52843251e-01, -6.36017538e-01,  2.73293742e-01],\n",
       "       [ 2.80629806e-01, -7.32018778e-01,  2.38773178e-01],\n",
       "       [-7.26687342e-01, -1.17633757e-01, -1.13144416e-01],\n",
       "       [-5.16185115e-01, -4.28245745e-01, -3.57708147e-01],\n",
       "       [-4.56338086e-01, -6.14338414e-01,  3.74146387e-02],\n",
       "       [-2.56958299e-01, -9.91636134e-01, -1.23177290e-01],\n",
       "       [-4.34588043e-01, -4.26441132e-01,  2.19195017e-02],\n",
       "       [-7.26095081e-01,  4.53163878e-01,  2.26885301e-01],\n",
       "       [-4.42827121e-01, -4.69768880e-01, -4.86494411e-01],\n",
       "       [-5.00580778e-01, -8.49901203e-01,  6.96020001e-01],\n",
       "       [ 4.64603467e-01, -3.22011537e-01,  1.66212272e-01],\n",
       "       [-2.36529209e-01, -6.39559666e-01,  2.68628145e-01],\n",
       "       [ 3.66242045e-01, -7.81978809e-01,  4.93046392e-01],\n",
       "       [-9.71765614e-01, -9.19858930e-01,  5.59178644e-01],\n",
       "       [-5.78868068e-01, -1.00361839e+00, -9.67103744e-03],\n",
       "       [ 8.89911693e-02, -1.16716713e+00,  2.37529643e-02],\n",
       "       [-7.45345181e-01, -1.42621879e-01, -1.80928099e-01],\n",
       "       [-2.61564487e-02, -5.36180912e-01,  4.33843592e-04],\n",
       "       [ 1.34022693e+00,  5.37830279e-01,  4.66118283e-01],\n",
       "       [ 2.27743232e-01, -8.41235029e-01,  1.22486701e-01],\n",
       "       [-3.62449954e-01,  4.57358905e-01, -1.37515471e-01],\n",
       "       [-9.12713112e-01, -7.98667811e-01,  4.48857888e-02],\n",
       "       [-2.88845965e-01,  3.51149604e-01,  1.18817608e-02],\n",
       "       [ 9.14669513e-01,  2.82287067e-01,  1.13989558e-01],\n",
       "       [-1.93407196e-01, -1.86711400e-01, -2.09053922e-01],\n",
       "       [-1.08026238e-01, -5.99802084e-02,  3.83347656e-01],\n",
       "       [ 1.09148759e+00,  7.95379021e-01,  6.91117180e-01],\n",
       "       [ 9.05745912e-02, -4.52905111e-01,  6.57677214e-01],\n",
       "       [-3.47736495e-01, -8.70829427e-01, -2.46931186e-01],\n",
       "       [ 7.91156257e-01,  4.40314403e-01,  4.27088306e-01],\n",
       "       [ 1.76832465e-01,  8.92110988e-01,  3.42328917e-01],\n",
       "       [-2.18791739e-01, -5.98275253e-01,  8.37733122e-01],\n",
       "       [ 1.29678320e+00,  3.66884421e-01,  6.47563788e-02],\n",
       "       [-3.66248026e-01, -6.86508295e-01,  2.37168446e-01],\n",
       "       [-3.69214343e-01, -5.76597821e-01, -1.90450651e-01],\n",
       "       [-7.77294680e-01, -1.04411815e+00,  1.79292173e-01],\n",
       "       [ 5.34807838e-02,  6.00896861e-02,  2.43891095e-01],\n",
       "       [ 6.78463640e-01,  6.30806614e-01,  3.92297743e-01],\n",
       "       [-3.45105586e-01, -5.94315740e-01,  1.52406315e-01],\n",
       "       [ 9.58686542e-02, -3.33220105e-01,  4.36955170e-01],\n",
       "       [-4.80653867e-01, -1.23549069e+00,  8.20502748e-02],\n",
       "       [ 7.36041068e-01,  7.66676116e-01,  1.47352942e+00],\n",
       "       [-5.46481752e-01, -4.60412041e-01,  3.22893560e-01],\n",
       "       [-4.08326164e-01, -4.95353436e-01,  2.75897933e-01],\n",
       "       [ 3.69007700e-02,  4.07068681e-01,  1.09409595e-01],\n",
       "       [ 6.77609407e-02,  1.12258044e-01, -3.27752005e-01],\n",
       "       [ 2.95716295e-01, -9.34516114e-01, -7.23837974e-02],\n",
       "       [-1.49368604e-01,  3.53437336e-01, -8.68431883e-02],\n",
       "       [ 7.23633670e-01,  4.20157272e-01,  1.11727864e-01],\n",
       "       [-4.98548906e-01, -5.38365970e-01, -1.41989350e-01],\n",
       "       [-4.90746974e-02, -1.26354938e-01, -4.22361376e-01],\n",
       "       [-4.37446024e-01, -6.03770376e-01,  2.82422268e-01]])"
      ]
     },
     "execution_count": 8,
     "metadata": {},
     "output_type": "execute_result"
    }
   ],
   "source": [
    "m = 60\n",
    "X = np.zeros((m,3))\n",
    "np.random.seed(42)\n",
    "angles = (np.random.randn(m) ** 3 + 0.5)* 2 * np.pi\n",
    "X[:, 0], X[: , 1] = np.cos(angles), np.sin(angles) * 0.5\n",
    "X += 0.28 * np.random.randn(m, 3)\n",
    "X = Rotation.from_rotvec([np.pi / 29, -np.pi/20, np.pi / 4]).apply(X)\n",
    "X += [0.2, 0, 0.2]"
   ]
  },
  {
   "cell_type": "markdown",
   "id": "3a0e3aae",
   "metadata": {},
   "source": [
    "## principal components"
   ]
  },
  {
   "cell_type": "code",
   "execution_count": 9,
   "id": "d1b541e1",
   "metadata": {},
   "outputs": [],
   "source": [
    "X_centered = X - X.mean(axis = 0)\n",
    "U, s, Vt = np.linalg.svd(X_centered)\n",
    "c1 = Vt[0]\n",
    "c2 = Vt[1]"
   ]
  },
  {
   "cell_type": "code",
   "execution_count": 10,
   "id": "de348e8a",
   "metadata": {},
   "outputs": [],
   "source": [
    "m,n = X.shape\n",
    "cov = np.zeros_like(X_centered)\n",
    "cov[:n, :n] = np.diag(s)\n",
    "assert np.allclose(X_centered, U @ cov @ Vt)"
   ]
  },
  {
   "cell_type": "markdown",
   "id": "ac2670b9",
   "metadata": {},
   "source": [
    "## projecting down to d dimensions"
   ]
  },
  {
   "cell_type": "code",
   "execution_count": 11,
   "id": "abc1da96",
   "metadata": {},
   "outputs": [],
   "source": [
    "W2 = Vt[:2].T\n",
    "X2D = X_centered @ W2"
   ]
  },
  {
   "cell_type": "markdown",
   "id": "9d5878c3",
   "metadata": {},
   "source": [
    "## PCA from scikit-learn"
   ]
  },
  {
   "cell_type": "code",
   "execution_count": 12,
   "id": "32237028",
   "metadata": {},
   "outputs": [],
   "source": [
    "from sklearn.decomposition import PCA"
   ]
  },
  {
   "cell_type": "code",
   "execution_count": 13,
   "id": "c0a0470c",
   "metadata": {},
   "outputs": [],
   "source": [
    "pca = PCA(n_components=2)\n",
    "X2D = pca.fit_transform(X)"
   ]
  },
  {
   "cell_type": "code",
   "execution_count": 14,
   "id": "d902d553",
   "metadata": {},
   "outputs": [
    {
     "data": {
      "text/plain": [
       "array([[ 0.67487689,  0.70794452,  0.20822042],\n",
       "       [-0.58336815,  0.68464219, -0.43697445]])"
      ]
     },
     "execution_count": 14,
     "metadata": {},
     "output_type": "execute_result"
    }
   ],
   "source": [
    "pca.components_"
   ]
  },
  {
   "cell_type": "code",
   "execution_count": 17,
   "id": "f459a03a",
   "metadata": {},
   "outputs": [
    {
     "data": {
      "text/plain": [
       "array([0.68734086, 0.18295512])"
      ]
     },
     "execution_count": 17,
     "metadata": {},
     "output_type": "execute_result"
    }
   ],
   "source": [
    "# explained_variable ratio\n",
    "\n",
    "pca.explained_variance_ratio_"
   ]
  },
  {
   "cell_type": "markdown",
   "id": "0718bfb1",
   "metadata": {},
   "source": [
    "### choosing the right no. of dimensions"
   ]
  },
  {
   "cell_type": "code",
   "execution_count": 18,
   "id": "d4139910",
   "metadata": {},
   "outputs": [],
   "source": [
    "from sklearn.datasets import fetch_openml"
   ]
  },
  {
   "cell_type": "code",
   "execution_count": 21,
   "id": "85a7b57e",
   "metadata": {},
   "outputs": [],
   "source": [
    "mnist = fetch_openml('mnist_784', as_frame = False)\n",
    "X_train, y_train = mnist.data[:60_000], mnist.target[:60_000]\n",
    "X_test, y_test = mnist.data[60_000:], mnist.target[60_000:]\n"
   ]
  },
  {
   "cell_type": "code",
   "execution_count": 22,
   "id": "81e63e41",
   "metadata": {},
   "outputs": [],
   "source": [
    "# method 1\n",
    "pca = PCA()\n",
    "pca.fit(X_train)\n",
    "cumsum = np.cumsum(pca.explained_variance_ratio_)\n",
    "d = np.argmax(cumsum > 0.95) + 1"
   ]
  },
  {
   "cell_type": "code",
   "execution_count": 23,
   "id": "485f00c8",
   "metadata": {},
   "outputs": [],
   "source": [
    "# or we can directly run PCA to retain desired variance\n",
    "pca = PCA(n_components= 0.95)\n",
    "X_red = pca.fit_transform(X_train)"
   ]
  },
  {
   "cell_type": "code",
   "execution_count": 24,
   "id": "a1733695",
   "metadata": {},
   "outputs": [
    {
     "data": {
      "text/plain": [
       "154"
      ]
     },
     "execution_count": 24,
     "metadata": {},
     "output_type": "execute_result"
    }
   ],
   "source": [
    "pca.n_components_"
   ]
  },
  {
   "cell_type": "code",
   "execution_count": 25,
   "id": "ba1faf35",
   "metadata": {},
   "outputs": [
    {
     "data": {
      "text/plain": [
       "0.9501960192613034"
      ]
     },
     "execution_count": 25,
     "metadata": {},
     "output_type": "execute_result"
    }
   ],
   "source": [
    "pca.explained_variance_ratio_.sum()"
   ]
  },
  {
   "cell_type": "code",
   "execution_count": 31,
   "id": "c956f3fe",
   "metadata": {},
   "outputs": [
    {
     "data": {
      "image/png": "[encoded data removed]",
      "text/plain": [
       "<Figure size 432x288 with 1 Axes>"
      ]
     },
     "metadata": {
      "needs_background": "light"
     },
     "output_type": "display_data"
    }
   ],
   "source": [
    "#alternatively we can plot explained variance as function of no. of dimensions\n",
    "\n",
    "plt.figure(figsize = (6,4))\n",
    "plt.plot(cumsum, linewidth = 3)\n",
    "plt.axis([0, 400, 0, 1])\n",
    "plt.xlabel('Dimensions')\n",
    "plt.ylabel('Explained variance')\n",
    "plt.plot([d,d], [0, 0.95], \"k:\")\n",
    "plt.plot([0,d], [0.95,0.95], \"k:\")\n",
    "plt.plot(d, 0.95, \"ko\")\n",
    "plt.annotate(\"Elbow\", xy = (65, 0.85) ,xytext = (70, 0.7), arrowprops = dict(arrowstyle=\"->\"))\n",
    "plt.grid(True)\n",
    "plt.show()"
   ]
  },
  {
   "cell_type": "code",
   "execution_count": 32,
   "id": "60a6ea94",
   "metadata": {},
   "outputs": [],
   "source": [
    "# tuning PCA hyperparameters  along with training hyperparameters\n",
    "\n",
    "from sklearn.ensemble import RandomForestClassifier\n",
    "from sklearn.model_selection import RandomizedSearchCV\n",
    "from sklearn.pipeline import make_pipeline"
   ]
  },
  {
   "cell_type": "code",
   "execution_count": 37,
   "id": "04a111f9",
   "metadata": {},
   "outputs": [],
   "source": [
    "clf = make_pipeline(PCA(random_state=42), RandomForestClassifier(random_state=42))\n",
    "param_dis={\n",
    "    \"pca__n_components\": np.arange(10, 80),\n",
    "    \"randomforestclassifier__n_estimators\": np.arange(50,500)\n",
    "}\n",
    "rnd_search = RandomizedSearchCV(clf, param_dis, n_iter = 10, cv = 3, random_state=42)"
   ]
  },
  {
   "cell_type": "code",
   "execution_count": 38,
   "id": "1f6172f5",
   "metadata": {},
   "outputs": [
    {
     "data": {
      "text/plain": [
       "RandomizedSearchCV(cv=3,\n",
       "                   estimator=Pipeline(steps=[('pca', PCA(random_state=42)),\n",
       "                                             ('randomforestclassifier',\n",
       "                                              RandomForestClassifier(random_state=42))]),\n",
       "                   param_distributions={'pca__n_components': array([10, 11, 12, 13, 14, 15, 16, 17, 18, 19, 20, 21, 22, 23, 24, 25, 26,\n",
       "       27, 28, 29, 30, 31, 32, 33, 34, 35, 36, 37, 38, 39, 40, 41, 42, 43,\n",
       "       44, 45, 46, 47, 48, 49, 50, 51, 52, 53, 54, 55, 56, 57, 58, 59, 60,\n",
       "       6...\n",
       "       414, 415, 416, 417, 418, 419, 420, 421, 422, 423, 424, 425, 426,\n",
       "       427, 428, 429, 430, 431, 432, 433, 434, 435, 436, 437, 438, 439,\n",
       "       440, 441, 442, 443, 444, 445, 446, 447, 448, 449, 450, 451, 452,\n",
       "       453, 454, 455, 456, 457, 458, 459, 460, 461, 462, 463, 464, 465,\n",
       "       466, 467, 468, 469, 470, 471, 472, 473, 474, 475, 476, 477, 478,\n",
       "       479, 480, 481, 482, 483, 484, 485, 486, 487, 488, 489, 490, 491,\n",
       "       492, 493, 494, 495, 496, 497, 498, 499])},\n",
       "                   random_state=42)"
      ]
     },
     "execution_count": 38,
     "metadata": {},
     "output_type": "execute_result"
    }
   ],
   "source": [
    "rnd_search.fit(X_train[:10000], y_train[:10000])"
   ]
  },
  {
   "cell_type": "code",
   "execution_count": 39,
   "id": "47fd6229",
   "metadata": {},
   "outputs": [
    {
     "name": "stdout",
     "output_type": "stream",
     "text": [
      "{'randomforestclassifier__n_estimators': 475, 'pca__n_components': 57}\n"
     ]
    }
   ],
   "source": [
    "print(rnd_search.best_params_)"
   ]
  },
  {
   "cell_type": "code",
   "execution_count": 40,
   "id": "47700865",
   "metadata": {},
   "outputs": [],
   "source": [
    "#decompression to original data\n",
    "X_recovered = pca.inverse_transform(X_red)"
   ]
  },
  {
   "cell_type": "code",
   "execution_count": 44,
   "id": "76027fa7",
   "metadata": {},
   "outputs": [
    {
     "data": {
      "text/plain": [
       "10245013818.739277"
      ]
     },
     "execution_count": 44,
     "metadata": {},
     "output_type": "execute_result"
    }
   ],
   "source": [
    "# reconstruction error\n",
    "((X_train - X_recovered)**2).sum() #does this make sense ...maybe not"
   ]
  },
  {
   "cell_type": "code",
   "execution_count": null,
   "id": "599bd9d8",
   "metadata": {},
   "outputs": [],
   "source": []
  }
 ],
 "metadata": {
  "kernelspec": {
   "display_name": "Python 3 (ipykernel)",
   "language": "python",
   "name": "python3"
  },
  "language_info": {
   "codemirror_mode": {
    "name": "ipython",
    "version": 3
   },
   "file_extension": ".py",
   "mimetype": "text/x-python",
   "name": "python",
   "nbconvert_exporter": "python",
   "pygments_lexer": "ipython3",
   "version": "3.10.4"
  }
 },
 "nbformat": 4,
 "nbformat_minor": 5
}
