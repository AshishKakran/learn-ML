{
 "cells": [
  {
   "cell_type": "markdown",
   "id": "c192a45b",
   "metadata": {},
   "source": [
    "# Multiclass classification on MNIST data using SVM"
   ]
  },
  {
   "cell_type": "code",
   "execution_count": 1,
   "id": "c57b85e7",
   "metadata": {},
   "outputs": [],
   "source": [
    "#python >=3.5 is required\n",
    "import sys\n",
    "assert sys.version_info >= (3,5)\n",
    "\n",
    "#scikit-learn >= 0.20 is required\n",
    "import sklearn\n",
    "assert sklearn.__version__ >= \"0.20\"\n",
    "\n",
    "#common imports\n",
    "import numpy as np\n",
    "import os\n",
    "import pandas as pd\n",
    "\n",
    "#to make this notebook's output stable across runs\n",
    "np.random.seed(42)\n",
    "\n",
    "#to plot pretty figures\n",
    "%matplotlib inline\n",
    "import matplotlib as mpl\n",
    "import matplotlib.pyplot as plt"
   ]
  },
  {
   "cell_type": "code",
   "execution_count": 2,
   "id": "efda73d0",
   "metadata": {},
   "outputs": [],
   "source": [
    "#saving figures\n",
    "PROJECT_ROOT_DIR = \".\"\n",
    "CHAPTER_ID = \"svm\"\n",
    "IMAGES_PATH = os.path.join(PROJECT_ROOT_DIR, \"images\", CHAPTER_ID)\n",
    "\n",
    "def save_fig(fig_id, tight_layout=True, fig_extension=\"png\",resolution=200):\n",
    "    path = os.path.join(IMAGES_PATH, fig_id + \".\" + fig_extension)\n",
    "    print(\"Saving figure\", fig_id)\n",
    "    if tight_layout:\n",
    "        plt.tight_layout()\n",
    "    plt.savefig(path, format=fig_extension, dpi = resolution)"
   ]
  },
  {
   "cell_type": "code",
   "execution_count": 3,
   "id": "189f79bd",
   "metadata": {},
   "outputs": [],
   "source": [
    "from sklearn.datasets import fetch_openml"
   ]
  },
  {
   "cell_type": "code",
   "execution_count": 4,
   "id": "e4c5de59",
   "metadata": {},
   "outputs": [],
   "source": [
    "mnist = fetch_openml('mnist_784', as_frame=False)"
   ]
  },
  {
   "cell_type": "code",
   "execution_count": 5,
   "id": "6813f8ae",
   "metadata": {},
   "outputs": [
    {
     "name": "stdout",
     "output_type": "stream",
     "text": [
      "**Author**: Yann LeCun, Corinna Cortes, Christopher J.C. Burges  \n",
      "**Source**: [MNIST Website](http://yann.lecun.com/exdb/mnist/) - Date unknown  \n",
      "**Please cite**:  \n",
      "\n",
      "The MNIST database of handwritten digits with 784 features, raw data available at: http://yann.lecun.com/exdb/mnist/. It can be split in a training set of the first 60,000 examples, and a test set of 10,000 examples  \n",
      "\n",
      "It is a subset of a larger set available from NIST. The digits have been size-normalized and centered in a fixed-size image. It is a good database for people who want to try learning techniques and pattern recognition methods on real-world data while spending minimal efforts on preprocessing and formatting. The original black and white (bilevel) images from NIST were size normalized to fit in a 20x20 pixel box while preserving their aspect ratio. The resulting images contain grey levels as a result of the anti-aliasing technique used by the normalization algorithm. the images were centered in a 28x28 image by computing the center of mass of the pixels, and translating the image so as to position this point at the center of the 28x28 field.  \n",
      "\n",
      "With some classification methods (particularly template-based methods, such as SVM and K-nearest neighbors), the error rate improves when the digits are centered by bounding box rather than center of mass. If you do this kind of pre-processing, you should report it in your publications. The MNIST database was constructed from NIST's NIST originally designated SD-3 as their training set and SD-1 as their test set. However, SD-3 is much cleaner and easier to recognize than SD-1. The reason for this can be found on the fact that SD-3 was collected among Census Bureau employees, while SD-1 was collected among high-school students. Drawing sensible conclusions from learning experiments requires that the result be independent of the choice of training set and test among the complete set of samples. Therefore it was necessary to build a new database by mixing NIST's datasets.  \n",
      "\n",
      "The MNIST training set is composed of 30,000 patterns from SD-3 and 30,000 patterns from SD-1. Our test set was composed of 5,000 patterns from SD-3 and 5,000 patterns from SD-1. The 60,000 pattern training set contained examples from approximately 250 writers. We made sure that the sets of writers of the training set and test set were disjoint. SD-1 contains 58,527 digit images written by 500 different writers. In contrast to SD-3, where blocks of data from each writer appeared in sequence, the data in SD-1 is scrambled. Writer identities for SD-1 is available and we used this information to unscramble the writers. We then split SD-1 in two: characters written by the first 250 writers went into our new training set. The remaining 250 writers were placed in our test set. Thus we had two sets with nearly 30,000 examples each. The new training set was completed with enough examples from SD-3, starting at pattern # 0, to make a full set of 60,000 training patterns. Similarly, the new test set was completed with SD-3 examples starting at pattern # 35,000 to make a full set with 60,000 test patterns. Only a subset of 10,000 test images (5,000 from SD-1 and 5,000 from SD-3) is available on this site. The full 60,000 sample training set is available.\n",
      "\n",
      "Downloaded from openml.org.\n"
     ]
    }
   ],
   "source": [
    "print(mnist['DESCR'])"
   ]
  },
  {
   "cell_type": "code",
   "execution_count": 6,
   "id": "adc4c3d3",
   "metadata": {},
   "outputs": [],
   "source": [
    "X = mnist.data\n",
    "y = mnist.target"
   ]
  },
  {
   "cell_type": "code",
   "execution_count": 7,
   "id": "a7388c7b",
   "metadata": {},
   "outputs": [
    {
     "data": {
      "text/plain": [
       "(70000, 784)"
      ]
     },
     "execution_count": 7,
     "metadata": {},
     "output_type": "execute_result"
    }
   ],
   "source": [
    "X.shape"
   ]
  },
  {
   "cell_type": "code",
   "execution_count": 8,
   "id": "d3aaa28b",
   "metadata": {},
   "outputs": [
    {
     "data": {
      "text/plain": [
       "(70000,)"
      ]
     },
     "execution_count": 8,
     "metadata": {},
     "output_type": "execute_result"
    }
   ],
   "source": [
    "y.shape"
   ]
  },
  {
   "cell_type": "code",
   "execution_count": 9,
   "id": "b74724e8",
   "metadata": {},
   "outputs": [],
   "source": [
    "def plot_digit(image_data):\n",
    "    image = image_data.reshape(28,28)\n",
    "    plt.imshow(image, cmap='binary')\n",
    "    plt.axis('off')"
   ]
  },
  {
   "cell_type": "code",
   "execution_count": 10,
   "id": "96e9b391",
   "metadata": {},
   "outputs": [
    {
     "data": {
      "image/png": "[encoded data removed]",
      "text/plain": [
       "<Figure size 432x288 with 1 Axes>"
      ]
     },
     "metadata": {
      "needs_background": "light"
     },
     "output_type": "display_data"
    }
   ],
   "source": [
    "some_digit = X[0]\n",
    "plot_digit(some_digit)\n",
    "plt.show()"
   ]
  },
  {
   "cell_type": "code",
   "execution_count": 11,
   "id": "c09a77ea",
   "metadata": {},
   "outputs": [],
   "source": [
    "from sklearn.model_selection import train_test_split"
   ]
  },
  {
   "cell_type": "code",
   "execution_count": 12,
   "id": "108a550b",
   "metadata": {},
   "outputs": [],
   "source": [
    "train_X,test_X,train_y,test_y = train_test_split(X,y, random_state=42, test_size=0.2, shuffle=False)"
   ]
  },
  {
   "cell_type": "code",
   "execution_count": 13,
   "id": "1b4caa97",
   "metadata": {},
   "outputs": [
    {
     "data": {
      "text/plain": [
       "(56000, 784)"
      ]
     },
     "execution_count": 13,
     "metadata": {},
     "output_type": "execute_result"
    }
   ],
   "source": [
    "train_X.shape"
   ]
  },
  {
   "cell_type": "code",
   "execution_count": 14,
   "id": "56bc0340",
   "metadata": {},
   "outputs": [],
   "source": [
    "from sklearn.preprocessing import StandardScaler"
   ]
  },
  {
   "cell_type": "code",
   "execution_count": 15,
   "id": "ec23e0ad",
   "metadata": {},
   "outputs": [],
   "source": [
    "scaler = StandardScaler()"
   ]
  },
  {
   "cell_type": "code",
   "execution_count": 16,
   "id": "c5e3f99f",
   "metadata": {},
   "outputs": [],
   "source": [
    "train_X_scaled = scaler.fit_transform(train_X)"
   ]
  },
  {
   "cell_type": "code",
   "execution_count": 17,
   "id": "e7b200b6",
   "metadata": {},
   "outputs": [],
   "source": [
    "from sklearn.svm import SVC, LinearSVC"
   ]
  },
  {
   "cell_type": "code",
   "execution_count": 40,
   "id": "2aa7eb6a",
   "metadata": {},
   "outputs": [],
   "source": [
    "lin_svm = LinearSVC(random_state=42)"
   ]
  },
  {
   "cell_type": "code",
   "execution_count": 41,
   "id": "68c539a9",
   "metadata": {},
   "outputs": [
    {
     "name": "stderr",
     "output_type": "stream",
     "text": [
      "/home/ashishk/anaconda3/envs/ml/lib/python3.10/site-packages/sklearn/svm/_base.py:1206: ConvergenceWarning: Liblinear failed to converge, increase the number of iterations.\n",
      "  warnings.warn(\n"
     ]
    },
    {
     "data": {
      "text/plain": [
       "LinearSVC(random_state=42)"
      ]
     },
     "execution_count": 41,
     "metadata": {},
     "output_type": "execute_result"
    }
   ],
   "source": [
    "lin_svm.fit(train_X_scaled, train_y)"
   ]
  },
  {
   "cell_type": "code",
   "execution_count": 42,
   "id": "1454a929",
   "metadata": {},
   "outputs": [
    {
     "data": {
      "text/plain": [
       "array(['3'], dtype=object)"
      ]
     },
     "execution_count": 42,
     "metadata": {},
     "output_type": "execute_result"
    }
   ],
   "source": [
    "lin_svm.predict([some_digit])"
   ]
  },
  {
   "cell_type": "code",
   "execution_count": 27,
   "id": "a5a9c87d",
   "metadata": {},
   "outputs": [],
   "source": [
    "from sklearn.metrics import accuracy_score"
   ]
  },
  {
   "cell_type": "code",
   "execution_count": 54,
   "id": "6e491a6a",
   "metadata": {},
   "outputs": [],
   "source": [
    "pred_y = lin_svm.predict(train_X_scaled)"
   ]
  },
  {
   "cell_type": "code",
   "execution_count": 55,
   "id": "6706ecef",
   "metadata": {},
   "outputs": [
    {
     "data": {
      "text/plain": [
       "0.9198214285714286"
      ]
     },
     "execution_count": 55,
     "metadata": {},
     "output_type": "execute_result"
    }
   ],
   "source": [
    "accuracy_score(pred_y,train_y)"
   ]
  },
  {
   "cell_type": "code",
   "execution_count": 22,
   "id": "ea9c67df",
   "metadata": {},
   "outputs": [],
   "source": [
    "svm_clf = SVC(random_state=42)"
   ]
  },
  {
   "cell_type": "code",
   "execution_count": 48,
   "id": "b3686fdd",
   "metadata": {},
   "outputs": [
    {
     "data": {
      "text/plain": [
       "SVC(random_state=42)"
      ]
     },
     "execution_count": 48,
     "metadata": {},
     "output_type": "execute_result"
    }
   ],
   "source": [
    "svm_clf.fit(train_X_scaled, train_y)"
   ]
  },
  {
   "cell_type": "code",
   "execution_count": 49,
   "id": "7ce74c8c",
   "metadata": {},
   "outputs": [
    {
     "data": {
      "text/plain": [
       "array(['5'], dtype=object)"
      ]
     },
     "execution_count": 49,
     "metadata": {},
     "output_type": "execute_result"
    }
   ],
   "source": [
    "svm_clf.predict([some_digit])"
   ]
  },
  {
   "cell_type": "code",
   "execution_count": 50,
   "id": "14e94108",
   "metadata": {},
   "outputs": [],
   "source": [
    "pred_y = svm_clf.predict(train_X)"
   ]
  },
  {
   "cell_type": "code",
   "execution_count": 51,
   "id": "4a145789",
   "metadata": {},
   "outputs": [
    {
     "data": {
      "text/plain": [
       "0.9898392857142857"
      ]
     },
     "execution_count": 51,
     "metadata": {},
     "output_type": "execute_result"
    }
   ],
   "source": [
    "accuracy_score(pred_y,train_y)"
   ]
  },
  {
   "cell_type": "markdown",
   "id": "c8f495e0",
   "metadata": {},
   "source": [
    "# hyper parameter tuning"
   ]
  },
  {
   "cell_type": "code",
   "execution_count": 18,
   "id": "10c64347",
   "metadata": {},
   "outputs": [],
   "source": [
    "from sklearn.model_selection import RandomizedSearchCV"
   ]
  },
  {
   "cell_type": "code",
   "execution_count": 19,
   "id": "36a2207a",
   "metadata": {},
   "outputs": [],
   "source": [
    "from scipy.stats import reciprocal, uniform"
   ]
  },
  {
   "cell_type": "code",
   "execution_count": 23,
   "id": "d00800b5",
   "metadata": {},
   "outputs": [
    {
     "name": "stdout",
     "output_type": "stream",
     "text": [
      "Fitting 3 folds for each of 10 candidates, totalling 30 fits\n",
      "[CV] END .....C=4.745401188473625, gamma=0.07969454818643928; total time=   0.2s\n",
      "[CV] END .....C=4.745401188473625, gamma=0.07969454818643928; total time=   0.2s\n",
      "[CV] END .....C=4.745401188473625, gamma=0.07969454818643928; total time=   0.2s\n",
      "[CV] END .....C=8.31993941811405, gamma=0.015751320499779724; total time=   0.1s\n",
      "[CV] END .....C=8.31993941811405, gamma=0.015751320499779724; total time=   0.2s\n",
      "[CV] END .....C=8.31993941811405, gamma=0.015751320499779724; total time=   0.2s\n",
      "[CV] END ....C=2.560186404424365, gamma=0.002051110418843397; total time=   0.1s\n",
      "[CV] END ....C=2.560186404424365, gamma=0.002051110418843397; total time=   0.1s\n",
      "[CV] END ....C=2.560186404424365, gamma=0.002051110418843397; total time=   0.1s\n",
      "[CV] END ....C=1.5808361216819946, gamma=0.05399484409787431; total time=   0.2s\n",
      "[CV] END ....C=1.5808361216819946, gamma=0.05399484409787431; total time=   0.2s\n",
      "[CV] END ....C=1.5808361216819946, gamma=0.05399484409787431; total time=   0.2s\n",
      "[CV] END ....C=7.011150117432088, gamma=0.026070247583707663; total time=   0.2s\n",
      "[CV] END ....C=7.011150117432088, gamma=0.026070247583707663; total time=   0.2s\n",
      "[CV] END ....C=7.011150117432088, gamma=0.026070247583707663; total time=   0.2s\n",
      "[CV] END .....C=1.2058449429580245, gamma=0.0870602087830485; total time=   0.2s\n",
      "[CV] END .....C=1.2058449429580245, gamma=0.0870602087830485; total time=   0.2s\n",
      "[CV] END .....C=1.2058449429580245, gamma=0.0870602087830485; total time=   0.2s\n",
      "[CV] END ...C=9.324426408004218, gamma=0.0026587543983272693; total time=   0.2s\n",
      "[CV] END ...C=9.324426408004218, gamma=0.0026587543983272693; total time=   0.2s\n",
      "[CV] END ...C=9.324426408004218, gamma=0.0026587543983272693; total time=   0.2s\n",
      "[CV] END ...C=2.818249672071006, gamma=0.0023270677083837795; total time=   0.1s\n",
      "[CV] END ...C=2.818249672071006, gamma=0.0023270677083837795; total time=   0.1s\n",
      "[CV] END ...C=2.818249672071006, gamma=0.0023270677083837795; total time=   0.1s\n",
      "[CV] END ....C=4.042422429595377, gamma=0.011207606211860567; total time=   0.2s\n",
      "[CV] END ....C=4.042422429595377, gamma=0.011207606211860567; total time=   0.2s\n",
      "[CV] END ....C=4.042422429595377, gamma=0.011207606211860567; total time=   0.2s\n",
      "[CV] END ....C=5.319450186421157, gamma=0.003823475224675185; total time=   0.2s\n",
      "[CV] END ....C=5.319450186421157, gamma=0.003823475224675185; total time=   0.2s\n",
      "[CV] END ....C=5.319450186421157, gamma=0.003823475224675185; total time=   0.2s\n"
     ]
    },
    {
     "data": {
      "text/plain": [
       "RandomizedSearchCV(cv=3, estimator=SVC(random_state=42),\n",
       "                   param_distributions={'C': <scipy.stats._distn_infrastructure.rv_frozen object at 0x7fcf7f12f4f0>,\n",
       "                                        'gamma': <scipy.stats._distn_infrastructure.rv_frozen object at 0x7fcf7f12ee30>},\n",
       "                   verbose=2)"
      ]
     },
     "execution_count": 23,
     "metadata": {},
     "output_type": "execute_result"
    }
   ],
   "source": [
    "param_distributions = {\"gamma\": reciprocal(0.001, 0.1), \"C\": uniform(1, 10)}\n",
    "rnd_search_cv = RandomizedSearchCV(svm_clf, param_distributions, n_iter=10, verbose=2, cv=3)\n",
    "rnd_search_cv.fit(train_X_scaled[:1000], train_y[:1000])"
   ]
  },
  {
   "cell_type": "code",
   "execution_count": 24,
   "id": "c703f94d",
   "metadata": {},
   "outputs": [
    {
     "data": {
      "text/plain": [
       "SVC(C=2.560186404424365, gamma=0.002051110418843397, random_state=42)"
      ]
     },
     "execution_count": 24,
     "metadata": {},
     "output_type": "execute_result"
    }
   ],
   "source": [
    "rnd_search_cv.best_estimator_"
   ]
  },
  {
   "cell_type": "code",
   "execution_count": 25,
   "id": "7ba3051e",
   "metadata": {},
   "outputs": [
    {
     "data": {
      "text/plain": [
       "SVC(C=2.560186404424365, gamma=0.002051110418843397, random_state=42)"
      ]
     },
     "execution_count": 25,
     "metadata": {},
     "output_type": "execute_result"
    }
   ],
   "source": [
    "rnd_search_cv.best_estimator_.fit(train_X_scaled, train_y)"
   ]
  },
  {
   "cell_type": "code",
   "execution_count": 26,
   "id": "712175fc",
   "metadata": {},
   "outputs": [],
   "source": [
    "pred_y = rnd_search_cv.best_estimator_.predict(train_X_scaled)"
   ]
  },
  {
   "cell_type": "code",
   "execution_count": 28,
   "id": "5ae4f17e",
   "metadata": {},
   "outputs": [
    {
     "data": {
      "text/plain": [
       "0.9974107142857143"
      ]
     },
     "execution_count": 28,
     "metadata": {},
     "output_type": "execute_result"
    }
   ],
   "source": [
    "accuracy_score(pred_y,train_y)"
   ]
  },
  {
   "cell_type": "code",
   "execution_count": 29,
   "id": "9206afab",
   "metadata": {},
   "outputs": [
    {
     "data": {
      "text/plain": [
       "array(['1', '8', '5', ..., '4', '5', '6'], dtype=object)"
      ]
     },
     "execution_count": 29,
     "metadata": {},
     "output_type": "execute_result"
    }
   ],
   "source": [
    "rnd_search_cv.best_estimator_.predict(scaler.fit_transform(test_X))"
   ]
  },
  {
   "cell_type": "code",
   "execution_count": 31,
   "id": "28b12ceb",
   "metadata": {},
   "outputs": [],
   "source": [
    "test_pred_y = _"
   ]
  },
  {
   "cell_type": "code",
   "execution_count": 32,
   "id": "42e80f29",
   "metadata": {},
   "outputs": [
    {
     "data": {
      "text/plain": [
       "0.9705714285714285"
      ]
     },
     "execution_count": 32,
     "metadata": {},
     "output_type": "execute_result"
    }
   ],
   "source": [
    "accuracy_score(test_pred_y,test_y)"
   ]
  }
 ],
 "metadata": {
  "kernelspec": {
   "display_name": "Python 3 (ipykernel)",
   "language": "python",
   "name": "python3"
  },
  "language_info": {
   "codemirror_mode": {
    "name": "ipython",
    "version": 3
   },
   "file_extension": ".py",
   "mimetype": "text/x-python",
   "name": "python",
   "nbconvert_exporter": "python",
   "pygments_lexer": "ipython3",
   "version": "3.10.4"
  }
 },
 "nbformat": 4,
 "nbformat_minor": 5
}
