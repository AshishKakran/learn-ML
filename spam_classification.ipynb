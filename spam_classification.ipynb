{
 "cells": [
  {
   "cell_type": "code",
   "execution_count": 1,
   "id": "c420dfc1",
   "metadata": {},
   "outputs": [],
   "source": [
    "import numpy as np\n",
    "import pandas as pd"
   ]
  },
  {
   "cell_type": "code",
   "execution_count": 2,
   "id": "0baf819b",
   "metadata": {},
   "outputs": [],
   "source": [
    "import os\n",
    "import tarfile\n",
    "import urllib.request"
   ]
  },
  {
   "cell_type": "code",
   "execution_count": 3,
   "id": "e5c964f5",
   "metadata": {},
   "outputs": [],
   "source": [
    "DOWNLOAD_ROOT = \"http://spamassassin.apache.org/old/publiccorpus/\"\n",
    "HAM_URL = DOWNLOAD_ROOT + \"20030228_easy_ham.tar.bz2\"\n",
    "SPAM_URL = DOWNLOAD_ROOT + \"20030228_spam.tar.bz2\"\n",
    "SPAM_PATH = os.path.join(\"datasets\", \"spam\")\n",
    "\n",
    "def fetch_spam_data(ham_url = HAM_URL, spam_url = SPAM_URL, spam_path = SPAM_PATH):\n",
    "    if not os.path.isdir(spam_path):\n",
    "        os.makedirs(spam_path)\n",
    "    for filename, url in ((\"ham.tar.bz2\", ham_url), (\"spam.tar.bz2\", spam_url)):\n",
    "        path = os.path.join(spam_path, filename)\n",
    "        if not os.path.isfile(path):\n",
    "            urllib.request.urlretrieve(url, path)\n",
    "        tar_bz2_file = tarfile.open(path)\n",
    "        tar_bz2_file.extractall(path=spam_path)\n",
    "        tar_bz2_file.close()"
   ]
  },
  {
   "cell_type": "code",
   "execution_count": 4,
   "id": "5c9cd08c",
   "metadata": {},
   "outputs": [],
   "source": [
    "fetch_spam_data()"
   ]
  },
  {
   "cell_type": "code",
   "execution_count": 5,
   "id": "b8072545",
   "metadata": {},
   "outputs": [],
   "source": [
    "HAM_DIR = os.path.join(SPAM_PATH, \"easy_ham\")\n",
    "SPAM_DIR = os.path.join(SPAM_PATH, \"spam\")\n",
    "ham_filenames = [name for name in sorted(os.listdir(HAM_DIR)) if len(name) > 20]\n",
    "spam_filenames = [name for name in sorted(os.listdir(SPAM_DIR)) if len(name) > 20]\n"
   ]
  },
  {
   "cell_type": "code",
   "execution_count": 6,
   "id": "11e37069",
   "metadata": {},
   "outputs": [
    {
     "data": {
      "text/plain": [
       "2500"
      ]
     },
     "execution_count": 6,
     "metadata": {},
     "output_type": "execute_result"
    }
   ],
   "source": [
    "len(ham_filenames)"
   ]
  },
  {
   "cell_type": "code",
   "execution_count": 7,
   "id": "b8be529f",
   "metadata": {},
   "outputs": [
    {
     "data": {
      "text/plain": [
       "500"
      ]
     },
     "execution_count": 7,
     "metadata": {},
     "output_type": "execute_result"
    }
   ],
   "source": [
    "len(spam_filenames)"
   ]
  },
  {
   "cell_type": "code",
   "execution_count": 8,
   "id": "ada48c9c",
   "metadata": {},
   "outputs": [],
   "source": [
    "import email\n",
    "import email.policy\n",
    "\n",
    "def load_email(is_spam, filename, spam_path = SPAM_PATH):\n",
    "    directory = \"spam\" if is_spam else \"easy_ham\"\n",
    "    with open(os.path.join(spam_path,directory, filename), \"rb\") as f:\n",
    "        return email.parser.BytesParser(policy=email.policy.default).parse(f)"
   ]
  },
  {
   "cell_type": "code",
   "execution_count": 9,
   "id": "e01a5d69",
   "metadata": {},
   "outputs": [],
   "source": [
    "ham_emails = [load_email(is_spam=False, filename = name) for name in ham_filenames]\n",
    "spam_emails = [load_email(is_spam = True, filename = name) for name in spam_filenames]\n"
   ]
  },
  {
   "cell_type": "code",
   "execution_count": 10,
   "id": "0c931b54",
   "metadata": {},
   "outputs": [],
   "source": [
    "def get_email_structure(email):\n",
    "    if isinstance(email,str):\n",
    "        return email\n",
    "    payload = email.get_payload()\n",
    "    if isinstance(payload, list):\n",
    "        return \"multipart({})\".format(\", \".join([\n",
    "            get_email_structure(sub_email)\n",
    "            for sub_email in payload\n",
    "        ]))\n",
    "    else:\n",
    "        return email.get_content_type()"
   ]
  },
  {
   "cell_type": "code",
   "execution_count": 11,
   "id": "df6a40eb",
   "metadata": {},
   "outputs": [],
   "source": [
    "from collections import Counter\n",
    "\n",
    "def structures_counter(emails):\n",
    "    structures = Counter()\n",
    "    for email in emails:\n",
    "        structure = get_email_structure(email)\n",
    "        structures[structure] += 1\n",
    "    return structures"
   ]
  },
  {
   "cell_type": "code",
   "execution_count": 12,
   "id": "327d5049",
   "metadata": {},
   "outputs": [
    {
     "data": {
      "text/plain": [
       "[('text/plain', 2408),\n",
       " ('multipart(text/plain, application/pgp-signature)', 66),\n",
       " ('multipart(text/plain, text/html)', 8),\n",
       " ('multipart(text/plain, text/plain)', 4),\n",
       " ('multipart(text/plain)', 3),\n",
       " ('multipart(text/plain, application/octet-stream)', 2),\n",
       " ('multipart(text/plain, text/enriched)', 1),\n",
       " ('multipart(text/plain, application/ms-tnef, text/plain)', 1),\n",
       " ('multipart(multipart(text/plain, text/plain, text/plain), application/pgp-signature)',\n",
       "  1),\n",
       " ('multipart(text/plain, video/mng)', 1),\n",
       " ('multipart(text/plain, multipart(text/plain))', 1),\n",
       " ('multipart(text/plain, application/x-pkcs7-signature)', 1),\n",
       " ('multipart(text/plain, multipart(text/plain, text/plain), text/rfc822-headers)',\n",
       "  1),\n",
       " ('multipart(text/plain, multipart(text/plain, text/plain), multipart(multipart(text/plain, application/x-pkcs7-signature)))',\n",
       "  1),\n",
       " ('multipart(text/plain, application/x-java-applet)', 1)]"
      ]
     },
     "execution_count": 12,
     "metadata": {},
     "output_type": "execute_result"
    }
   ],
   "source": [
    "structures_counter(ham_emails).most_common()"
   ]
  },
  {
   "cell_type": "code",
   "execution_count": 13,
   "id": "d522d2e0",
   "metadata": {},
   "outputs": [
    {
     "data": {
      "text/plain": [
       "[('text/plain', 218),\n",
       " ('text/html', 183),\n",
       " ('multipart(text/plain, text/html)', 45),\n",
       " ('multipart(text/html)', 20),\n",
       " ('multipart(text/plain)', 19),\n",
       " ('multipart(multipart(text/html))', 5),\n",
       " ('multipart(text/plain, image/jpeg)', 3),\n",
       " ('multipart(text/html, application/octet-stream)', 2),\n",
       " ('multipart(text/plain, application/octet-stream)', 1),\n",
       " ('multipart(text/html, text/plain)', 1),\n",
       " ('multipart(multipart(text/html), application/octet-stream, image/jpeg)', 1),\n",
       " ('multipart(multipart(text/plain, text/html), image/gif)', 1),\n",
       " ('multipart/alternative', 1)]"
      ]
     },
     "execution_count": 13,
     "metadata": {},
     "output_type": "execute_result"
    }
   ],
   "source": [
    "structures_counter(spam_emails).most_common()"
   ]
  },
  {
   "cell_type": "code",
   "execution_count": 14,
   "id": "9ff7aef4",
   "metadata": {},
   "outputs": [
    {
     "name": "stdout",
     "output_type": "stream",
     "text": [
      "Return-Path :  <12a1mailbot1@web.de>\n",
      "Delivered-To :  zzzz@localhost.spamassassin.taint.org\n",
      "Received :  from localhost (localhost [127.0.0.1])\tby phobos.labs.spamassassin.taint.org (Postfix) with ESMTP id 136B943C32\tfor <zzzz@localhost>; Thu, 22 Aug 2002 08:17:21 -0400 (EDT)\n",
      "Received :  from mail.webnote.net [193.120.211.219]\tby localhost with POP3 (fetchmail-5.9.0)\tfor zzzz@localhost (single-drop); Thu, 22 Aug 2002 13:17:21 +0100 (IST)\n",
      "Received :  from dd_it7 ([210.97.77.167])\tby webnote.net (8.9.3/8.9.3) with ESMTP id NAA04623\tfor <zzzz@spamassassin.taint.org>; Thu, 22 Aug 2002 13:09:41 +0100\n",
      "From :  12a1mailbot1@web.de\n",
      "Received :  from r-smtp.korea.com - 203.122.2.197 by dd_it7  with Microsoft SMTPSVC(5.5.1775.675.6);\t Sat, 24 Aug 2002 09:42:10 +0900\n",
      "To :  dcek1a1@netsgo.com\n",
      "Subject :  Life Insurance - Why Pay More?\n",
      "Date :  Wed, 21 Aug 2002 20:31:57 -1600\n",
      "MIME-Version :  1.0\n",
      "Message-ID :  <0103c1042001882DD_IT7@dd_it7>\n",
      "Content-Type :  text/html; charset=\"iso-8859-1\"\n",
      "Content-Transfer-Encoding :  quoted-printable\n"
     ]
    }
   ],
   "source": [
    "for header, value in spam_emails[0].items():\n",
    "    print(header, \": \", value)"
   ]
  },
  {
   "cell_type": "code",
   "execution_count": 17,
   "id": "80d0ac85",
   "metadata": {},
   "outputs": [
    {
     "name": "stdout",
     "output_type": "stream",
     "text": [
      "Life Insurance - Why Pay More?\n"
     ]
    }
   ],
   "source": [
    "print(spam_emails[0]['Subject'])"
   ]
  },
  {
   "cell_type": "code",
   "execution_count": 18,
   "id": "4740f4dd",
   "metadata": {},
   "outputs": [],
   "source": [
    "from sklearn.model_selection import train_test_split"
   ]
  },
  {
   "cell_type": "code",
   "execution_count": 19,
   "id": "6b257901",
   "metadata": {},
   "outputs": [],
   "source": [
    "X = np.array(ham_emails + spam_emails, dtype = object)\n",
    "y = np.array([0] * len(ham_emails) + [1] * len(spam_emails))\n"
   ]
  },
  {
   "cell_type": "code",
   "execution_count": 23,
   "id": "d16cbc0f",
   "metadata": {},
   "outputs": [],
   "source": [
    "train_X, test_X, train_y, test_y = train_test_split(X,y, test_size = 0.2, random_state= 42)"
   ]
  },
  {
   "cell_type": "markdown",
   "id": "cee4df09",
   "metadata": {},
   "source": [
    "Converting HTML to plain text"
   ]
  },
  {
   "cell_type": "code",
   "execution_count": 24,
   "id": "61f308e5",
   "metadata": {},
   "outputs": [],
   "source": [
    "import re\n",
    "from html import unescape"
   ]
  },
  {
   "cell_type": "code",
   "execution_count": 25,
   "id": "c87ea746",
   "metadata": {},
   "outputs": [],
   "source": [
    "def html_to_plain_text(html):\n",
    "    text = re.sub('<head.*?>.*?</head>', '', html, flags=re.M | re.S | re.I)\n",
    "    text = re.sub('<a\\s.*?>', ' HYPERLINK ', text, flags=re.M | re.S | re.I)\n",
    "    text = re.sub('<.*?>', '', text, flags=re.M | re.S)\n",
    "    text = re.sub(r'(\\s*\\n)+', '\\n', text, flags=re.M | re.S)\n",
    "    return unescape(text)"
   ]
  },
  {
   "cell_type": "code",
   "execution_count": 29,
   "id": "a70e1af4",
   "metadata": {},
   "outputs": [
    {
     "name": "stdout",
     "output_type": "stream",
     "text": [
      "<html><body><center>\n",
      "\n",
      "<table bgcolor=\"663399\" border=\"2\" width=\"999\" cellspacing=\"0\" cellpadding=\"0\">\n",
      "  <tr>\n",
      "    <td colspan=\"3\" width=\"999\"> <hr><font color=\"yellow\"> \n",
      "<center>\n",
      "<font size=\"7\"> \n",
      "<br><center><b>Get 12 FREE VHS or DVDs! </b><br>\n",
      "<table bgcolor=\"white\" border=\"2\" width=\"500\">\n",
      "  <tr>    <td>\n",
      " <font size=\"7\"> <font color=\"003399\"><center>Click <a href=\"http://www.bozomber.com/porno/index.html\"> HERE For Details!</a>\n",
      "<font size=\"5\"><br>\n",
      "</td></tr></table> <br> \n",
      "\n",
      "<table bgcolor=\"#CCFF33\" border=\"2\" width=\"600\">\n",
      "  <tr>    <td><center><center><font size=\"6\"><font color=\"6633CC\"><br>\n",
      "We Only Have HIGH QUALITY <br>Porno Movies to Choose From!<br><br>\n",
      " \n",
      " \"This is a <i>VERY SPECIAL, LIMITED TIME OFFER</i>.\"<br><br> Get up to 12 DVDs absolutely FREE,<br> with<a href=\"http://www.bozomber.com/porno/index.html\"> NO COMMITMENT!</a> \n",
      " <br><br>\n",
      "There's <b>no better deal anywhere</b>.<br>\n",
      "There's <i>no catches</i> and <i>no gimmicks</i>. <br>You only pay for the shipping,<br> and the DVDs are <b>absolutely free</b>!<br><br>\n",
      "\n",
      "Take a Peak at our<a href=\"http://www.bozomber.com/porno/index.html\">  Full Catalog!</a> \n",
      "\n",
      "\n",
      " <br>\n",
      "</td></tr></table>\n",
      " <br> <br> \n",
      " \n",
      "<table bgcolor=\"yellow\" border=\"2\" width=\"600\">\n",
      "  <tr>    <td><br>\n",
      " <font size=\"6\"> <font color=\"blue\">\n",
      "<center>\n",
      " \n",
      " \n",
      " <font size=\"6\"><b>High quality cum filled titles such as:</b><br><br><center>\n",
      "<a href=\"http://www.bozomber.com/porno/index.html\"><b> <font size=\"6\">500 Oral Cumshots 5</b><br></a>\n",
      " <font size=\"5\">\n",
      "<b></center>Description:</b> 500 Oral Cum Shots! I need hot jiz on my face!<br> Will you cum in my mouth?<br<br\n",
      "</td></tr></table> <br> <br>\n",
      "\n",
      "<table bgcolor=\"yellow\" border=\"2\" width=\"600\">\n",
      "  <tr>    <td><br>\n",
      " <font size=\"6\"> <font color=\"blue\">\n",
      "<center>\n",
      " \n",
      " \n",
      " <font size=\"6\"><b>Dozens of Dirty Hardcore titles such as:</b><br><br><center>\n",
      "<a href=\"http://www.bozomber.com/porno/index.html\"><b> <font size=\"6\">Amazing Penetrations No. 17</b><br></a>\n",
      " <font size=\"5\">\n",
      "<b></center>Description:</b> 4 full hours of amazing penetrations<br> with some of the most beautiful women in porn!<br<br\n",
      "</td></tr></table> <br> <br>\n",
      "\n",
      "<table bgcolor=\"yellow\" border=\"2\" width=\"600\">\n",
      "  <tr>    <td><br>\n",
      " <font size=\"6\"> <font color=\"blue\">\n",
      "<center>\n",
      "\n",
      " <font size=\"6\"><b>From our \"Sexiest Innocent Blondes\" collections:</b><br><br><center>\n",
      "<a href=\"http://www.bozomber.com/porno/index.html\"><b> <font size=\"6\">Audition Tapes</b><br></a>\n",
      " <font size=\"5\">\n",
      "<b></center>Description:</b> Our girls go from cute, young and innocent, <br>to <i>screaming sex goddess</i>\n",
      " beggin' to have massive cocks in their tight, <br>wet pussies and asses!<br<br\n",
      "</td></tr></table> <br> <br>\n",
      "<br> <br> <br> <br> <br>  <hr>\n",
      "</td></tr></table>\n",
      "\n",
      "\n",
      "</body></html> ....\n"
     ]
    }
   ],
   "source": [
    "html_spam_emails = [email for email in train_X[train_y == 1] if get_email_structure(email) == 'text/html']\n",
    "sample_html_spam = html_spam_emails[5]\n",
    "print(sample_html_spam.get_content().strip(), \"....\")"
   ]
  },
  {
   "cell_type": "code",
   "execution_count": 30,
   "id": "17a1b38a",
   "metadata": {},
   "outputs": [
    {
     "name": "stdout",
     "output_type": "stream",
     "text": [
      "\n",
      "Get 12 FREE VHS or DVDs!\n",
      "  Click  HYPERLINK  HERE For Details!\n",
      "We Only Have HIGH QUALITY Porno Movies to Choose From!\n",
      " \"This is a VERY SPECIAL, LIMITED TIME OFFER.\" Get up to 12 DVDs absolutely FREE, with HYPERLINK  NO COMMITMENT!\n",
      "There's no better deal anywhere.\n",
      "There's no catches and no gimmicks. You only pay for the shipping, and the DVDs are absolutely free!\n",
      "Take a Peak at our HYPERLINK   Full Catalog!\n",
      " High quality cum filled titles such as:\n",
      " HYPERLINK  500 Oral Cumshots 5\n",
      "Description: 500 Oral Cum Shots! I need hot jiz on my face! Will you cum in my mouth?\n",
      " Dozens of Dirty Hardcore titles such as:\n",
      " HYPERLINK  Amazing Penetrations No. 17\n",
      "Description: 4 full hours of amazing penetrations with some of the most beautiful women in porn!\n",
      " From our \"Sexiest Innocent Blondes\" collections:\n",
      " HYPERLINK  Audition Tapes\n",
      "Description: Our girls go from cute, young and innocent, to screaming sex goddess\n",
      " beggin' to have massive cocks in their tight, wet pussies and asses!\n",
      "\n"
     ]
    }
   ],
   "source": [
    "#after parsing HTML\n",
    "print(html_to_plain_text(sample_html_spam.get_content()))"
   ]
  },
  {
   "cell_type": "code",
   "execution_count": 37,
   "id": "60b5ba4c",
   "metadata": {},
   "outputs": [],
   "source": [
    "def email_to_text(email):\n",
    "    html = None\n",
    "    for part in email.walk():\n",
    "        ctype = part.get_content_type()\n",
    "        if not ctype in (\"text/plain\", \"text/html\"):\n",
    "            continue\n",
    "        try:\n",
    "            content = part.get_content()\n",
    "        except: #encoding issues\n",
    "            content = str(part.get_payload())\n",
    "        if ctype == \"text/plain\":\n",
    "            return content\n",
    "        else:\n",
    "            html = content\n",
    "    if html:\n",
    "        return html_to_plain_text(html)"
   ]
  },
  {
   "cell_type": "code",
   "execution_count": 38,
   "id": "3f2fbb94",
   "metadata": {},
   "outputs": [
    {
     "name": "stdout",
     "output_type": "stream",
     "text": [
      "\n",
      "Get 12 FREE VHS or DVDs!\n",
      "  Click  HYPERLINK  HERE For Details!\n",
      "We Only Have HIGH QUALITY Porno Movies to Choose From!\n",
      " \"This is a VERY SPECIAL, LIMITED TIME OFFER.\" Get up to 12 DVDs absolutely FREE, with HYPERLINK  NO COMMITMENT!\n",
      "There's no better deal anywhere.\n",
      "There's no catches and no gimmicks. You only pay for the shipping, and the DVDs are absolutely free!\n",
      "Take a Peak at our HYPERLINK   Full Catalog!\n",
      " High quality cum filled titles such as:\n",
      " HYPERLINK  500 Oral Cumshots 5\n",
      "Description: 500 Oral Cum Shots! I need hot jiz on my face! Will you cum in my mouth?\n",
      " Dozens of Dirty Hardcore titles such as:\n",
      " HYPERLINK  Amazing Penetrations No. 17\n",
      "Description: 4 full hours of amazing penetrations with some of the most beautiful women in porn!\n",
      " From our \"Sexiest Innocent Blondes\" collections:\n",
      " HYPERLINK  Audition Tapes\n",
      "Description: Our girls go from cute, young and innocent, to screaming sex goddess\n",
      " beggin' to have massive cocks in their tight, wet pussies and asses!\n",
      "\n"
     ]
    }
   ],
   "source": [
    "print(email_to_text(sample_html_spam))"
   ]
  },
  {
   "cell_type": "markdown",
   "id": "296ca002",
   "metadata": {},
   "source": [
    "## stemming"
   ]
  },
  {
   "cell_type": "code",
   "execution_count": 31,
   "id": "a4270333",
   "metadata": {},
   "outputs": [],
   "source": [
    "import nltk"
   ]
  },
  {
   "cell_type": "code",
   "execution_count": 32,
   "id": "7bf71add",
   "metadata": {},
   "outputs": [
    {
     "name": "stdout",
     "output_type": "stream",
     "text": [
      "Computations => comput\n",
      "Computation => comput\n",
      "Computing => comput\n",
      "Computed => comput\n",
      "Compute => comput\n",
      "Compulsive => compuls\n"
     ]
    }
   ],
   "source": [
    "stemmer = nltk.PorterStemmer()\n",
    "for word in (\"Computations\", \"Computation\", \"Computing\", \"Computed\", \"Compute\", \"Compulsive\"):\n",
    "        print(word, \"=>\", stemmer.stem(word))"
   ]
  },
  {
   "cell_type": "code",
   "execution_count": 34,
   "id": "b942952c",
   "metadata": {},
   "outputs": [],
   "source": [
    "import urlextract"
   ]
  },
  {
   "cell_type": "code",
   "execution_count": 36,
   "id": "e4e41a46",
   "metadata": {},
   "outputs": [
    {
     "name": "stdout",
     "output_type": "stream",
     "text": [
      "['https://www.kakraninsights.com']\n"
     ]
    }
   ],
   "source": [
    "url_extractor = urlextract.URLExtract()\n",
    "print(url_extractor.find_urls(\"Will it detect https://www.kakraninsights.com\"))"
   ]
  },
  {
   "cell_type": "markdown",
   "id": "77b12cd5",
   "metadata": {},
   "source": [
    "## transform to text"
   ]
  },
  {
   "cell_type": "code",
   "execution_count": 39,
   "id": "6ce39edf",
   "metadata": {},
   "outputs": [],
   "source": [
    "from sklearn.base import BaseEstimator, TransformerMixin"
   ]
  },
  {
   "cell_type": "code",
   "execution_count": 53,
   "id": "af7b6ce2",
   "metadata": {},
   "outputs": [],
   "source": [
    "class EmailToWordCounterTransformer(BaseEstimator, TransformerMixin):\n",
    "    \n",
    "    def __init__(self, strip_headers=True, lower_case = True, remove_punctuation=True,\n",
    "                replace_urls = True, replace_numbers = True, stemming=True):\n",
    "        self.strip_headers = strip_headers\n",
    "        self.lower_case = lower_case\n",
    "        self.remove_punctuation = remove_punctuation\n",
    "        self.replace_urls = replace_urls\n",
    "        self.replace_numbers = replace_numbers\n",
    "        self.stemming = stemming\n",
    "        \n",
    "    def fit(self, X,y = None):\n",
    "        return self\n",
    "    \n",
    "    def transform(self, X,y= None):\n",
    "        \n",
    "        X_transformed = []\n",
    "        \n",
    "        for email in X:\n",
    "            text = email_to_text(email) or \"\"\n",
    "            \n",
    "            if self.lower_case:\n",
    "                text = text.lower()\n",
    "                \n",
    "            if self.replace_urls and url_extractor is not None:\n",
    "                urls = list(set(url_extractor.find_urls(text)))\n",
    "                urls.sort(key=lambda url: len(url), reverse=True)\n",
    "                for url in urls:\n",
    "                    text = text.replace(url, \"URL\")\n",
    "            \n",
    "            if self.replace_numbers:\n",
    "                text = re.sub(r'\\d+(?:\\.\\d*)?(?:[eE][+-]?\\d+)?', 'NUMBER', text)\n",
    "            \n",
    "            if self.remove_punctuation:\n",
    "                text = re.sub(r'\\W+', ' ', text, flags = re.M)\n",
    "                \n",
    "            word_counts = Counter(text.split())\n",
    "            \n",
    "            if self.stemming and stemmer is not None:\n",
    "                \n",
    "                stemmed_word_counts = Counter()\n",
    "                for word, count in word_counts.items():\n",
    "                    stemmed_word = stemmer.stem(word)\n",
    "                    stemmed_word_counts[stemmed_word] += count\n",
    "                word_counts = stemmed_word_counts\n",
    "                \n",
    "            X_transformed.append(word_counts)\n",
    "        return np.array(X_transformed)\n"
   ]
  },
  {
   "cell_type": "code",
   "execution_count": 56,
   "id": "db239e11",
   "metadata": {},
   "outputs": [],
   "source": [
    "X_few = train_X[:3]"
   ]
  },
  {
   "cell_type": "code",
   "execution_count": 57,
   "id": "b89547da",
   "metadata": {},
   "outputs": [
    {
     "data": {
      "text/plain": [
       "array([Counter({'chuck': 1, 'murcko': 1, 'wrote': 1, 'stuff': 1, 'yawn': 1, 'r': 1}),\n",
       "       Counter({'the': 11, 'of': 9, 'and': 8, 'all': 3, 'christian': 3, 'to': 3, 'by': 3, 'jefferson': 2, 'i': 2, 'have': 2, 'superstit': 2, 'one': 2, 'on': 2, 'been': 2, 'ha': 2, 'half': 2, 'rogueri': 2, 'teach': 2, 'jesu': 2, 'some': 1, 'interest': 1, 'quot': 1, 'url': 1, 'thoma': 1, 'examin': 1, 'known': 1, 'word': 1, 'do': 1, 'not': 1, 'find': 1, 'in': 1, 'our': 1, 'particular': 1, 'redeem': 1, 'featur': 1, 'they': 1, 'are': 1, 'alik': 1, 'found': 1, 'fabl': 1, 'mytholog': 1, 'million': 1, 'innoc': 1, 'men': 1, 'women': 1, 'children': 1, 'sinc': 1, 'introduct': 1, 'burnt': 1, 'tortur': 1, 'fine': 1, 'imprison': 1, 'what': 1, 'effect': 1, 'thi': 1, 'coercion': 1, 'make': 1, 'world': 1, 'fool': 1, 'other': 1, 'hypocrit': 1, 'support': 1, 'error': 1, 'over': 1, 'earth': 1, 'six': 1, 'histor': 1, 'american': 1, 'john': 1, 'e': 1, 'remsburg': 1, 'letter': 1, 'william': 1, 'short': 1, 'again': 1, 'becom': 1, 'most': 1, 'pervert': 1, 'system': 1, 'that': 1, 'ever': 1, 'shone': 1, 'man': 1, 'absurd': 1, 'untruth': 1, 'were': 1, 'perpetr': 1, 'upon': 1, 'a': 1, 'larg': 1, 'band': 1, 'dupe': 1, 'import': 1, 'led': 1, 'paul': 1, 'first': 1, 'great': 1, 'corrupt': 1}),\n",
       "       Counter({'url': 4, 's': 3, 'group': 3, 'to': 3, 'in': 2, 'forteana': 2, 'martin': 2, 'an': 2, 'and': 2, 'we': 2, 'is': 2, 'yahoo': 2, 'unsubscrib': 2, 'y': 1, 'adamson': 1, 'wrote': 1, 'for': 1, 'altern': 1, 'rather': 1, 'more': 1, 'factual': 1, 'base': 1, 'rundown': 1, 'on': 1, 'hamza': 1, 'career': 1, 'includ': 1, 'hi': 1, 'belief': 1, 'that': 1, 'all': 1, 'non': 1, 'muslim': 1, 'yemen': 1, 'should': 1, 'be': 1, 'murder': 1, 'outright': 1, 'know': 1, 'how': 1, 'unbias': 1, 'memri': 1, 'don': 1, 't': 1, 'html': 1, 'rob': 1, 'sponsor': 1, 'number': 1, 'dvd': 1, 'free': 1, 'p': 1, 'join': 1, 'now': 1, 'from': 1, 'thi': 1, 'send': 1, 'email': 1, 'egroup': 1, 'com': 1, 'your': 1, 'use': 1, 'of': 1, 'subject': 1})],\n",
       "      dtype=object)"
      ]
     },
     "execution_count": 57,
     "metadata": {},
     "output_type": "execute_result"
    }
   ],
   "source": [
    "X_few_wordcounts = EmailToWordCounterTransformer().fit_transform(X_few)\n",
    "X_few_wordcounts"
   ]
  },
  {
   "cell_type": "markdown",
   "id": "a4777251",
   "metadata": {},
   "source": [
    "## build dictionary and word vectors"
   ]
  },
  {
   "cell_type": "code",
   "execution_count": 58,
   "id": "eba261ed",
   "metadata": {},
   "outputs": [],
   "source": [
    "from scipy.sparse import csr_matrix"
   ]
  },
  {
   "cell_type": "code",
   "execution_count": 70,
   "id": "3b82979c",
   "metadata": {},
   "outputs": [],
   "source": [
    "class WordCounterToVectorTransformer(BaseEstimator, TransformerMixin):\n",
    "    def __init__(self, vocabulary_size = 1000):\n",
    "        self.vocabulary_size = vocabulary_size\n",
    "        \n",
    "    def fit(self, X, y=None):\n",
    "        total_count = Counter()\n",
    "        \n",
    "        for word_count in X:\n",
    "            for word, count in word_count.items():\n",
    "                total_count[word] += min(count, 10)\n",
    "        most_common = total_count.most_common()[:self.vocabulary_size]\n",
    "        self.vocabulary_ = { word: index + 1 for index, (word,count) in enumerate(most_common)}\n",
    "        return self\n",
    "    \n",
    "    def transform(self, X, y = None):\n",
    "        \n",
    "        rows = []\n",
    "        cols = []\n",
    "        data = []\n",
    "        \n",
    "        for row,word_count in enumerate(X):\n",
    "            for word,count in word_count.items():\n",
    "                rows.append(row)\n",
    "                cols.append(self.vocabulary_.get(word,0))\n",
    "                data.append(count)\n",
    "                \n",
    "        return csr_matrix((data,(rows,cols)), shape = (len(X), self.vocabulary_size + 1))\n",
    "        "
   ]
  },
  {
   "cell_type": "code",
   "execution_count": 71,
   "id": "7e876aec",
   "metadata": {},
   "outputs": [
    {
     "data": {
      "text/plain": [
       "<3x11 sparse matrix of type '<class 'numpy.int64'>'\n",
       "\twith 20 stored elements in Compressed Sparse Row format>"
      ]
     },
     "execution_count": 71,
     "metadata": {},
     "output_type": "execute_result"
    }
   ],
   "source": [
    "vocab_transformer = WordCounterToVectorTransformer(vocabulary_size=10)\n",
    "X_few_vectors = vocab_transformer.fit_transform(X_few_wordcounts)\n",
    "X_few_vectors"
   ]
  },
  {
   "cell_type": "code",
   "execution_count": 73,
   "id": "04fa2f4e",
   "metadata": {},
   "outputs": [
    {
     "data": {
      "text/plain": [
       "{'the': 1,\n",
       " 'of': 2,\n",
       " 'and': 3,\n",
       " 'to': 4,\n",
       " 'url': 5,\n",
       " 'all': 6,\n",
       " 'in': 7,\n",
       " 'christian': 8,\n",
       " 'on': 9,\n",
       " 'by': 10}"
      ]
     },
     "execution_count": 73,
     "metadata": {},
     "output_type": "execute_result"
    }
   ],
   "source": [
    "vocab_transformer.vocabulary_"
   ]
  },
  {
   "cell_type": "markdown",
   "id": "2e9aaba0",
   "metadata": {},
   "source": [
    "## training"
   ]
  },
  {
   "cell_type": "code",
   "execution_count": 74,
   "id": "ae82786f",
   "metadata": {},
   "outputs": [],
   "source": [
    "from sklearn.pipeline import Pipeline"
   ]
  },
  {
   "cell_type": "code",
   "execution_count": 75,
   "id": "55550707",
   "metadata": {},
   "outputs": [],
   "source": [
    "preprocess_pipeline = Pipeline([\n",
    "    (\"email_to_wordcount\", EmailToWordCounterTransformer()),\n",
    "    (\"wordcount_to_vector\", WordCounterToVectorTransformer()),\n",
    "])"
   ]
  },
  {
   "cell_type": "code",
   "execution_count": 76,
   "id": "1207c4e8",
   "metadata": {},
   "outputs": [],
   "source": [
    "train_X_trfmd = preprocess_pipeline.fit_transform(train_X)"
   ]
  },
  {
   "cell_type": "code",
   "execution_count": 84,
   "id": "5caa4177",
   "metadata": {},
   "outputs": [],
   "source": [
    "from sklearn.linear_model import LogisticRegression\n",
    "from sklearn.naive_bayes import GaussianNB"
   ]
  },
  {
   "cell_type": "code",
   "execution_count": 86,
   "id": "5bf46140",
   "metadata": {},
   "outputs": [],
   "source": [
    "log_clf = LogisticRegression(solver=\"lbfgs\", max_iter = 1000, random_state= 42)"
   ]
  },
  {
   "cell_type": "code",
   "execution_count": 87,
   "id": "c8b12230",
   "metadata": {},
   "outputs": [],
   "source": [
    "from sklearn.model_selection import cross_val_score"
   ]
  },
  {
   "cell_type": "code",
   "execution_count": 92,
   "id": "e2f156d8",
   "metadata": {},
   "outputs": [
    {
     "name": "stderr",
     "output_type": "stream",
     "text": [
      "[Parallel(n_jobs=1)]: Using backend SequentialBackend with 1 concurrent workers.\n"
     ]
    },
    {
     "name": "stdout",
     "output_type": "stream",
     "text": [
      "[CV] END ................................ score: (test=0.981) total time=   0.2s\n"
     ]
    },
    {
     "name": "stderr",
     "output_type": "stream",
     "text": [
      "[Parallel(n_jobs=1)]: Done   1 out of   1 | elapsed:    0.2s remaining:    0.0s\n"
     ]
    },
    {
     "name": "stdout",
     "output_type": "stream",
     "text": [
      "[CV] END ................................ score: (test=0.984) total time=   0.3s\n"
     ]
    },
    {
     "name": "stderr",
     "output_type": "stream",
     "text": [
      "[Parallel(n_jobs=1)]: Done   2 out of   2 | elapsed:    0.5s remaining:    0.0s\n"
     ]
    },
    {
     "name": "stdout",
     "output_type": "stream",
     "text": [
      "[CV] END ................................ score: (test=0.990) total time=   0.4s\n"
     ]
    },
    {
     "name": "stderr",
     "output_type": "stream",
     "text": [
      "[Parallel(n_jobs=1)]: Done   3 out of   3 | elapsed:    0.9s finished\n"
     ]
    }
   ],
   "source": [
    "Logistic_score = cross_val_score(log_clf, train_X_trfmd, train_y, cv=3,verbose=3 )"
   ]
  },
  {
   "cell_type": "code",
   "execution_count": 93,
   "id": "5e2a003b",
   "metadata": {},
   "outputs": [
    {
     "data": {
      "text/plain": [
       "0.985"
      ]
     },
     "execution_count": 93,
     "metadata": {},
     "output_type": "execute_result"
    }
   ],
   "source": [
    "Logistic_score.mean()"
   ]
  },
  {
   "cell_type": "code",
   "execution_count": 91,
   "id": "bd93279f",
   "metadata": {},
   "outputs": [],
   "source": [
    "bayes_clf = GaussianNB()"
   ]
  },
  {
   "cell_type": "code",
   "execution_count": null,
   "id": "656de70f",
   "metadata": {},
   "outputs": [],
   "source": []
  },
  {
   "cell_type": "code",
   "execution_count": 97,
   "id": "1264eb80",
   "metadata": {},
   "outputs": [
    {
     "name": "stdout",
     "output_type": "stream",
     "text": [
      "[CV] END ................................ score: (test=0.877) total time=   0.1s\n",
      "[CV] END ................................ score: (test=0.800) total time=   0.0s\n",
      "[CV] END ................................ score: (test=0.812) total time=   0.0s\n"
     ]
    },
    {
     "name": "stderr",
     "output_type": "stream",
     "text": [
      "[Parallel(n_jobs=1)]: Using backend SequentialBackend with 1 concurrent workers.\n",
      "[Parallel(n_jobs=1)]: Done   1 out of   1 | elapsed:    0.1s remaining:    0.0s\n",
      "[Parallel(n_jobs=1)]: Done   2 out of   2 | elapsed:    0.1s remaining:    0.0s\n",
      "[Parallel(n_jobs=1)]: Done   3 out of   3 | elapsed:    0.1s finished\n"
     ]
    }
   ],
   "source": [
    "bayes_score = cross_val_score(bayes_clf, train_X_trfmd.toarray(), train_y, cv=3,verbose=3 )"
   ]
  },
  {
   "cell_type": "code",
   "execution_count": 99,
   "id": "892f16d4",
   "metadata": {},
   "outputs": [
    {
     "data": {
      "text/plain": [
       "0.8300000000000001"
      ]
     },
     "execution_count": 99,
     "metadata": {},
     "output_type": "execute_result"
    }
   ],
   "source": [
    "bayes_score.mean()"
   ]
  }
 ],
 "metadata": {
  "kernelspec": {
   "display_name": "Python 3 (ipykernel)",
   "language": "python",
   "name": "python3"
  },
  "language_info": {
   "codemirror_mode": {
    "name": "ipython",
    "version": 3
   },
   "file_extension": ".py",
   "mimetype": "text/x-python",
   "name": "python",
   "nbconvert_exporter": "python",
   "pygments_lexer": "ipython3",
   "version": "3.10.4"
  }
 },
 "nbformat": 4,
 "nbformat_minor": 5
}
